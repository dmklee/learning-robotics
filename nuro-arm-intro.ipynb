{
  "nbformat": 4,
  "nbformat_minor": 0,
  "metadata": {
    "colab": {
      "name": "nuro-arm.ipynb",
      "provenance": [],
      "collapsed_sections": [],
      "authorship_tag": "ABX9TyN7oSR6O0vwCLRYsTZvn9t4",
      "include_colab_link": true
    },
    "kernelspec": {
      "name": "python3",
      "display_name": "Python 3"
    },
    "language_info": {
      "name": "python"
    }
  },
  "cells": [
    {
      "cell_type": "markdown",
      "metadata": {
        "id": "view-in-github",
        "colab_type": "text"
      },
      "source": [
        "<a href=\"https://colab.research.google.com/github/dmklee/nuro-arm/blob/main/nuro-arm-intro.ipynb\" target=\"_parent\"><img src=\"https://colab.research.google.com/assets/colab-badge.svg\" alt=\"Open In Colab\"/></a>"
      ]
    },
    {
      "cell_type": "markdown",
      "metadata": {
        "id": "ypuwjg60tveS"
      },
      "source": [
        "## Clone and install github repo\n"
      ]
    },
    {
      "cell_type": "code",
      "metadata": {
        "id": "2EODOPtzKN2x",
        "colab": {
          "base_uri": "https://localhost:8080/"
        },
        "outputId": "75df973d-8c4e-4b80-c4b5-adb017954852"
      },
      "source": [
        "!git clone https://github.com/dmklee/nuro-arm.git\n",
        "!pip install nuro-arm/"
      ],
      "execution_count": 1,
      "outputs": [
        {
          "output_type": "stream",
          "text": [
            "fatal: destination path 'nuro-arm' already exists and is not an empty directory.\n",
            "Processing ./nuro-arm\n",
            "\u001b[33m  DEPRECATION: A future pip version will change local packages to be built in-place without first copying to a temporary directory. We recommend you use --use-feature=in-tree-build to test your packages with this new behavior before it becomes the default.\n",
            "   pip 21.3 will remove support for this functionality. You can find discussion regarding this at https://github.com/pypa/pip/issues/7555.\u001b[0m\n",
            "Requirement already satisfied: numpy in /usr/local/lib/python3.7/dist-packages (from nuro-arm==0.0.1) (1.19.5)\n",
            "Requirement already satisfied: opencv-contrib-python in /usr/local/lib/python3.7/dist-packages (from nuro-arm==0.0.1) (4.1.2.30)\n",
            "Requirement already satisfied: pybullet==3.1.7 in /usr/local/lib/python3.7/dist-packages (from nuro-arm==0.0.1) (3.1.7)\n",
            "Requirement already satisfied: matplotlib in /usr/local/lib/python3.7/dist-packages (from nuro-arm==0.0.1) (3.2.2)\n",
            "Requirement already satisfied: sklearn in /usr/local/lib/python3.7/dist-packages (from nuro-arm==0.0.1) (0.0)\n",
            "Requirement already satisfied: scipy in /usr/local/lib/python3.7/dist-packages (from nuro-arm==0.0.1) (1.4.1)\n",
            "Requirement already satisfied: gym in /usr/local/lib/python3.7/dist-packages (from nuro-arm==0.0.1) (0.17.3)\n",
            "Requirement already satisfied: easyhid in /usr/local/lib/python3.7/dist-packages (from nuro-arm==0.0.1) (0.0.10)\n",
            "Requirement already satisfied: cffi in /usr/local/lib/python3.7/dist-packages (from easyhid->nuro-arm==0.0.1) (1.14.6)\n",
            "Requirement already satisfied: pycparser in /usr/local/lib/python3.7/dist-packages (from cffi->easyhid->nuro-arm==0.0.1) (2.20)\n",
            "Requirement already satisfied: pyglet<=1.5.0,>=1.4.0 in /usr/local/lib/python3.7/dist-packages (from gym->nuro-arm==0.0.1) (1.5.0)\n",
            "Requirement already satisfied: cloudpickle<1.7.0,>=1.2.0 in /usr/local/lib/python3.7/dist-packages (from gym->nuro-arm==0.0.1) (1.3.0)\n",
            "Requirement already satisfied: future in /usr/local/lib/python3.7/dist-packages (from pyglet<=1.5.0,>=1.4.0->gym->nuro-arm==0.0.1) (0.16.0)\n",
            "Requirement already satisfied: pyparsing!=2.0.4,!=2.1.2,!=2.1.6,>=2.0.1 in /usr/local/lib/python3.7/dist-packages (from matplotlib->nuro-arm==0.0.1) (2.4.7)\n",
            "Requirement already satisfied: kiwisolver>=1.0.1 in /usr/local/lib/python3.7/dist-packages (from matplotlib->nuro-arm==0.0.1) (1.3.1)\n",
            "Requirement already satisfied: cycler>=0.10 in /usr/local/lib/python3.7/dist-packages (from matplotlib->nuro-arm==0.0.1) (0.10.0)\n",
            "Requirement already satisfied: python-dateutil>=2.1 in /usr/local/lib/python3.7/dist-packages (from matplotlib->nuro-arm==0.0.1) (2.8.2)\n",
            "Requirement already satisfied: six in /usr/local/lib/python3.7/dist-packages (from cycler>=0.10->matplotlib->nuro-arm==0.0.1) (1.15.0)\n",
            "Requirement already satisfied: scikit-learn in /usr/local/lib/python3.7/dist-packages (from sklearn->nuro-arm==0.0.1) (0.22.2.post1)\n",
            "Requirement already satisfied: joblib>=0.11 in /usr/local/lib/python3.7/dist-packages (from scikit-learn->sklearn->nuro-arm==0.0.1) (1.0.1)\n",
            "Building wheels for collected packages: nuro-arm\n",
            "  Building wheel for nuro-arm (setup.py) ... \u001b[?25l\u001b[?25hdone\n",
            "  Created wheel for nuro-arm: filename=nuro_arm-0.0.1-py3-none-any.whl size=3862524 sha256=afe40a243eeae6ad6ecabb0b18ce55a1fc08153b7ea8e67cea668b61ded24019\n",
            "  Stored in directory: /root/.cache/pip/wheels/10/03/f4/741a634e94648d97b14be760853bd353ef7beb7f96ccbb8578\n",
            "Successfully built nuro-arm\n",
            "Installing collected packages: nuro-arm\n",
            "  Attempting uninstall: nuro-arm\n",
            "    Found existing installation: nuro-arm 0.0.1\n",
            "    Uninstalling nuro-arm-0.0.1:\n",
            "      Successfully uninstalled nuro-arm-0.0.1\n",
            "Successfully installed nuro-arm-0.0.1\n"
          ],
          "name": "stdout"
        }
      ]
    },
    {
      "cell_type": "markdown",
      "metadata": {
        "id": "PmkeNpfKK4DI"
      },
      "source": [
        "### Helper functions for visualization"
      ]
    },
    {
      "cell_type": "code",
      "metadata": {
        "id": "MjooXRc5K3ou"
      },
      "source": [
        "import matplotlib.pyplot as plt\n",
        "import numpy as np\n",
        "from matplotlib import animation\n",
        "from IPython.display import HTML\n",
        "\n",
        "def show_video(video):\n",
        "  fig = plt.figure()\n",
        "  im = plt.imshow(video[0])\n",
        "  plt.axis('off')\n",
        "  plt.tight_layout(pad=0)\n",
        "  plt.close()\n",
        "\n",
        "  def animate(i):\n",
        "    im.set_data(video[i])\n",
        "\n",
        "  anim = animation.FuncAnimation(fig, animate, frames=len(video), interval=50)\n",
        "  return HTML(anim.to_html5_video())\n",
        "\n",
        "def show_image(image):\n",
        "  fig = plt.figure()\n",
        "  im = plt.imshow(image)\n",
        "  plt.axis('off')\n",
        "  plt.tight_layout(pad=0)\n",
        "\n",
        "# pose matrix for camera that looks upon scene from side\n",
        "side_view_pose_mtx = np.array([[-0.866, 0.3214,-0.3830, 0.3264],\n",
        "                               [-0.5, -0.5567, 0.663, -0.351],\n",
        "                               [-0, -0.766, -0.6428, 0.514],\n",
        "                               [0, 0, 0, 1]])"
      ],
      "execution_count": 6,
      "outputs": []
    },
    {
      "cell_type": "markdown",
      "metadata": {
        "id": "atyDdJmCuA9t"
      },
      "source": [
        "# Create simulated robot"
      ]
    },
    {
      "cell_type": "code",
      "metadata": {
        "id": "6KKmBodpcE6A"
      },
      "source": [
        "from nuro_arm import RobotArm, Camera, Cube\n",
        "\n",
        "robot = RobotArm('sim', headless=True, realtime=False)\n",
        "side_view_camera = Camera('sim', pose_mtx=side_view_pose_mtx)\n",
        "camera = Camera('sim')\n",
        "\n",
        "cube = Cube(pos=[0.2, 0, 0.02], size=0.040, tag_id=0)\n"
      ],
      "execution_count": 7,
      "outputs": []
    },
    {
      "cell_type": "code",
      "metadata": {
        "id": "vVc8GsAOgWMH",
        "colab": {
          "base_uri": "https://localhost:8080/",
          "height": 319
        },
        "outputId": "ba8bce09-6bb3-4919-cfbb-0ac0e6ff1e9c"
      },
      "source": [
        "# visualize the scene\n",
        "image = side_view_camera.get_image()\n",
        "show_image(image)"
      ],
      "execution_count": 8,
      "outputs": [
        {
          "output_type": "display_data",
          "data": {
            "image/png": "[encoded data removed]",
            "text/plain": [
              "<Figure size 432x288 with 1 Axes>"
            ]
          },
          "metadata": {
            "needs_background": "light"
          }
        }
      ]
    },
    {
      "cell_type": "code",
      "metadata": {
        "colab": {
          "base_uri": "https://localhost:8080/",
          "height": 319
        },
        "id": "vPtjkG1u5RJ2",
        "outputId": "b129c3c4-9db4-4248-fcbd-f1bcb7d81d27"
      },
      "source": [
        "# show camera feed\n",
        "image = camera.get_image()\n",
        "show_image(image)\n",
        "\n",
        "# add cube vertices for visualization\n",
        "detected_cube = camera.find_cubes()[0]\n",
        "pixel_vertices = camera.project_world_points(detected_cube.vertices)\n",
        "for v in pixel_vertices:\n",
        "  plt.plot(*v, 'r.')"
      ],
      "execution_count": 10,
      "outputs": [
        {
          "output_type": "display_data",
          "data": {
            "image/png": "[encoded data removed]",
            "text/plain": [
              "<Figure size 432x288 with 1 Axes>"
            ]
          },
          "metadata": {
            "needs_background": "light"
          }
        }
      ]
    },
    {
      "cell_type": "code",
      "metadata": {
        "id": "k6VPsLpQ8m-A"
      },
      "source": [
        "# picking up the cube\n",
        "\n",
        "side_view_camera.start_recording(2)\n",
        "\n",
        "robot.open_gripper()\n",
        "robot.move_hand_to( detected_cube.pos )\n",
        "robot.close_gripper()\n",
        "robot.home()\n",
        "\n",
        "video = side_view_camera.wait_for_recording()"
      ],
      "execution_count": 11,
      "outputs": []
    },
    {
      "cell_type": "code",
      "metadata": {
        "colab": {
          "base_uri": "https://localhost:8080/",
          "height": 309
        },
        "id": "i0_-WoQF95pw",
        "outputId": "ec635bec-18eb-43b6-d0df-e55f0e2ededd"
      },
      "source": [
        "show_video(video)"
      ],
      "execution_count": 12,
      "outputs": [
        {
          "output_type": "execute_result",
          "data": {
            "text/html": [
              "<video width=\"432\" height=\"288\" controls autoplay loop>\n",
              "  <source type=\"video/mp4\" src=\"data:video/mp4;base64,AAAAHGZ0eXBNNFYgAAACAGlzb21pc28yYXZjMQAAAAhmcmVlAAAfsG1kYXQAAAKuBgX//6rcRem9\n",
              "5tlIt5Ys2CDZI+7veDI2NCAtIGNvcmUgMTUyIHIyODU0IGU5YTU5MDMgLSBILjI2NC9NUEVHLTQg\n",
              "QVZDIGNvZGVjIC0gQ29weWxlZnQgMjAwMy0yMDE3IC0gaHR0cDovL3d3dy52aWRlb2xhbi5vcmcv\n",
              "eDI2NC5odG1sIC0gb3B0aW9uczogY2FiYWM9MSByZWY9MyBkZWJsb2NrPTE6MDowIGFuYWx5c2U9\n",
              "MHgzOjB4MTEzIG1lPWhleCBzdWJtZT03IHBzeT0xIHBzeV9yZD0xLjAwOjAuMDAgbWl4ZWRfcmVm\n",
              "PTEgbWVfcmFuZ2U9MTYgY2hyb21hX21lPTEgdHJlbGxpcz0xIDh4OGRjdD0xIGNxbT0wIGRlYWR6\n",
              "b25lPTIxLDExIGZhc3RfcHNraXA9MSBjaHJvbWFfcXBfb2Zmc2V0PS0yIHRocmVhZHM9MyBsb29r\n",
              "YWhlYWRfdGhyZWFkcz0xIHNsaWNlZF90aHJlYWRzPTAgbnI9MCBkZWNpbWF0ZT0xIGludGVybGFj\n",
              "ZWQ9MCBibHVyYXlfY29tcGF0PTAgY29uc3RyYWluZWRfaW50cmE9MCBiZnJhbWVzPTMgYl9weXJh\n",
              "bWlkPTIgYl9hZGFwdD0xIGJfYmlhcz0wIGRpcmVjdD0xIHdlaWdodGI9MSBvcGVuX2dvcD0wIHdl\n",
              "aWdodHA9MiBrZXlpbnQ9MjUwIGtleWludF9taW49MjAgc2NlbmVjdXQ9NDAgaW50cmFfcmVmcmVz\n",
              "aD0wIHJjX2xvb2thaGVhZD00MCByYz1jcmYgbWJ0cmVlPTEgY3JmPTIzLjAgcWNvbXA9MC42MCBx\n",
              "cG1pbj0wIHFwbWF4PTY5IHFwc3RlcD00IGlwX3JhdGlvPTEuNDAgYXE9MToxLjAwAIAAABlQZYiE\n",
              "AD///vdonwKbWj8TyEQ/6dgELHa/pIwjjp/hMzIekR72FBJDC3YkVBU5nNNz82342D4yVhAtXuKl\n",
              "+fiQ/KBjdB1FIQRTw5JEzQzYC7TOhII3HYBBOm/YfDNx5ddpIVptyIpmhpeTttabBMVxsbAwGMDE\n",
              "u/8xsXFMzyEiBcTj1Zu9YQZXTM6fnKkLIpdgIOARwUxnTYDGqV/z7ZVlyppBGAxb4cw0kB17XSOd\n",
              "3tcjlJHQOMMmHXhUEZ+rHbXDvjn+lNTAbOnXcQeld12XK2m3HYWzfoyEAqMh6e8y3jgtgn32rI80\n",
              "WCg2fMNm5OiRvLYCk/+vcpe7FzJL4PjlBSoN/eAcRmrj5Wtcgu5KPBIbVNqR6QcfF8nWdIBWE8oM\n",
              "gPZ7Sipd+tvcHJFSBsKoXSlGB0jqXim0wxRvlDk26yKr+uXBrSXimy8QYNA2EwoE229gjMyPu/oa\n",
              "8vHJXBfYQuEFbz7MXb0qvObWTHcM2/mKgncZKQkdXzbp14VftqyO5toFL2Tvo4nWpEkbSl6SisDt\n",
              "EaykYuxu896akY754+38swmNqbwGRXrdG16MGQL0/wVrr4JZjPDXLNvwV9nwg06HYMgQCrmVKsXk\n",
              "K/+D7gqsfkaNtPoTMJHBYPZbD80BsZBPVO8m08rx1mRyyYe8nd3cUjj6FgwJQ1NhKcR1gQ/8H94W\n",
              "2ppY0LlOXo6AaVnKGpl/SEjV378WOpzBAIKbnUfYhKo+ArqwMRim+LqVbIpCXcT8m8sjThpRX8Cg\n",
              "G98IKWo/iOxuhDoeRZ/B870meyfkcKz3DBOzvUFJaOBC+RIBLf9oD+4Di3Tm7whSTtP6UPY/8hve\n",
              "DJH1NQQLc+hbcKNKdZfTxNc96sXKrf3bLKiSJwsD2SdOo82gz2AUB4YCO3wgfrwHsV2ReQagO1Qc\n",
              "AfYzeMxo7IKQJTTCtQRdtKKJ3OU2PUsY0En2XnVhyPm6RckAODffEZZI8cGgJP3e2F2Y+dROUrAl\n",
              "Wb2J1SXKCj/kFqPg60cRnuV9n7v9YmvUl4MvUyw1+UudDmUz7v3/QjQIyM8zSUpDdb1N2bnCnwlK\n",
              "EJfnx4X5iMJmd3fKWo8EDAmMjIs07TUM/hANWbPZyY/nj7Bui9cYH2RzM479uJviiew2/+e3oLJL\n",
              "zICAH81wxVTNTynStm566xRv8GJtbdIoPj+FywevVPvRDT/vQ/E6yb5LzW6cEWDAriz1TuJGyEhC\n",
              "8Szb2B6g+R5iubZW0eKrMeHaga/KfZxoPNf+pjI04FeGI3cvg7Nl7GuJYl/jWckHZpD8Xf6OZtgg\n",
              "dWF+QxxtEFFCWIgMGksoGML30COAd6UpR2vZwFWCN7vu3IRmu353/B6DwKGLn0wyiN4O1EKDZrwt\n",
              "/IZC2z90NrFGJUkCeLS5WM64yRF/vCg63FE+XvEj9Z3X0iYzXaHxyQhuOHb7/cjVK9dJjN0JmzfD\n",
              "v/X7O8lqQKSJJYOI25VYs6XI9D9t53heDjmPm6EqVIWsGIT6dVRWNrBS5MonuEDWzvueRlsCAWOt\n",
              "Q9kx/fs5T9EDYWUVplnmt8k8+VIh1Ht3jHgB3HANoEdTK3pzVxFSpQ48AWE4VCuueEUk5I67qqmg\n",
              "CCDaXNhCNgMJMFMlMPOZTTiOHoaslvH/jel4OVfjBgTN9fyGVhdxPeV3FwpBoSfjC9HYvPhgC6+0\n",
              "YAAsp5CMjZFlKjcHHHvx/rpupuABEp7+KlTB/SJThBmkaWc0M44W+INuHhplHmIb1w8Uxv1Oujfp\n",
              "xDFtri/nyBJ0/xs/QcMX80EKGlKlLhKsRrux04dOrRlvhoS6pZr5+d9VPwZm1SpzyeK0Oe39HxdP\n",
              "iF5kpJMzQaySd/lcRIe61KCHwBwKLfxLPiSeWnYRwTxOeXelBiAXgCPGiaPqu7R4ODFuToT5I/jL\n",
              "vD8cJeGNuZyjr8de19eVC9KoPTtv4HMgQXuNSbyLJwyXDsY4i9XMQmKZMJVm0CJtS9FmJSNyAFH4\n",
              "ua0r+nX/hxSj18SO88ajKGf+DNm44ERzv/oCbfSpl2mfyFYefdytf8zkDsf6dERdCkjF4xxs0DDs\n",
              "7+qDPCkTjMmuCglnF8U+SKLEDlJIpcORKp9xAiQ6WlzBCp8R11fIGRWs2HlcyhjaWEAJOCdupEUg\n",
              "C+CWDhRgUJ+h+eKAHaItl6Lfuo9/0nsVcT0BAeaVvM58OC1nih8cPQuV9xJO0VFyJFXhe4viDMGy\n",
              "2em5669BgCTd2aIhgm9sbCNfVx6RNB9cFsGp4i7UWfDLguSzDKj/ijtCJDTcQowz4CoReeniLHK6\n",
              "Td/yxD4e0zX/+yaPSOImnR/AiQYsLXxUkREeHMttqZgIfbcbOkWD4cQsXMWgiKtoKEm6fkIHTfOu\n",
              "UTYvdkeoBk0DLGDH7i1bZG5PCCfzBtRGfj4dboBod2mlmbNibF9GTOUb8WldPm/Dps+pxefQNbHX\n",
              "BJrcyG3fhHeGgk0YQQZ8T3t4kG+HixEms6uM87aeOml+B7v1w96/nEfS7/w97EPg8kTUrDDUNxq3\n",
              "zJPK54Ux/7NmpvjHllXme/3D6n3o6sS4QhW5s86dSLUOFZ0HnUFIW2QQOBL3rNuqcMGUPSFJp9ut\n",
              "0ZNeCgAesqXu3edK/Ino+zsPQ+1rtVUkb67OGOr0FXlC7REYyCnx/8Sxv+9xOlJdPsFVJ5UBeih+\n",
              "MCxrTA+D1A/Ob1mUWgNrP7G8jDU4vuBCmnhXgLRNMyLCVaHqStLu0iOX3I9N0xDaZlyxdMqqbQPj\n",
              "ccLuCoQd2RerUO6OXf8M6BtFWY0DFmT6TVce9QDKE0/k04a1Q3+SqBzrECWQf2ZwYuIu9C+8n/0z\n",
              "sgYVvKgTtwzQdH00dvk6j02pZa8ttEENFEN7M3DAXF5mFEa5UJgFfJ+ZRiW+/UD8y0XOnbLN73xE\n",
              "maCmv1QIAq0gckSHiIjLGI+n/Jjt/V3V8bDFQ8srVUXQd959r+JmyfoDSkMpDyK7/5zA0qfh/izN\n",
              "f0RfjGYLRLJvdayOkDGtCy23pdYsT4uJ4kAbb2oIHMCHVgpUk3GzKOOkhZhBY5D2xspuxKsVA/a7\n",
              "c/IAT5gfEpPSPQag5XEu3/JATAU1kNYFoK9+NHjt3TgCfWvY/dC7aUgxCkQJs8Ga5z8f4OZaZZOM\n",
              "oMWlr03WsL1ttw20aJMXtRQ7YSYxaE60EiJsR7ZMiv1AaiohW/QHdU8t2dZAiqctZIOh4WOsyBmg\n",
              "RtemPWmPpfrHb7DJeUpo6yC20Mm3L8OrdU45yDtq0uEzQ6ThfZZQ+23kwDXcCEi7Dl8W4KtMVDJZ\n",
              "/jXgYzs64TlL09JS4qofSZtwdEmGduU0B+vOl+NG+qUqVYJIabirFx+78Y1t3uRUqgQKYgXvp+Vs\n",
              "+KlIKPdRJ0U65lquHXqi9yYhPntY8msNJ6awP1ashRj5SofdsuGGHJUnx3uvkZCX7HM4xja2tizL\n",
              "3Wvm2swW79SlVxJ5nThU7Z5h05UI2eMMZIKOi7x1BY/tIUQkRgjZSn4+9lvpLhN3elBSvM600VkO\n",
              "OxATZIbmbtscSoCtIB8ZhHynd5UniplkMZLARYtlllCCVxXx+BYKCWxT0AP8jFFnbPA0rJSVVULD\n",
              "vHwQSfGBBcNq9pu6rWixVIXme3a9FaSuG11r0Q1/b8kJ0GDV5+QaCS0kYvhaCyMjwBr9KlLh3KpO\n",
              "ZeWVpw+K9imSSQH9RIfSeCKCcGfLxGwMzoACne8SY/e++IMFOnvw7gh/LcbFlz3OUAnjIVHKUgEP\n",
              "Zi5kC+HL+VYUYN/6D+3pyThXrgxaHaFd5anMwHUI+ncCb7NKaGAniXCGz6Tk5QsP3lFctUUu4Qkq\n",
              "r7VunWMOkn+AV75gboI8qlMVZdTc4Eo+GJGSe8dTVZ7eTMJnZ/k1WCHuYUZZeH01xzDFx2NxtG/b\n",
              "DeEZHw3JpphU+5oDzuEGeeRjD5INrwxKPvrJniYx2OP7m9h0vt5iK8x/lg+iYLfGRRDu6D7niPjJ\n",
              "9HmQHyhoGs0IUuHHxYuFOezT6vHdPQDwqc5vPsAAy+AnayV92Appp7VsJ0fVLSefb5WRikqdpYDY\n",
              "UGCesRkR9tE2gcgzASy4Qw0MIJWy1oV9XWxZZ/kg71AqIAeEtyh8tmwqZPuOriUaR7tLO9mEhL92\n",
              "VqLBTabmJSueIyb3AXj2nx6Wgb5gwf000/Gb5hBGfSup6tywCVXxXAEaVRnT5Up8hWFadYMFk74m\n",
              "dYqKJCCMs2C2H7fTybnugz1Q22nSaruW1JKDpCe+ChtyFIqWY17r/s4roFeYFXI1F6CMWMHhL3Yn\n",
              "k61GsQ/E5Kqs4ALXxrH4INT9cfxcwFXB9i9c+6gocqOyjizp5I2EpCys//sfQNT9pdG9U1VPxDV4\n",
              "AOqVoh7KXfX8Zy7pQ5NUqSeBnHsoQZhKPMfq7o4CHIWphW3ZowMwnaS2fZ8k3j+KbQ8qaBXwtxTh\n",
              "dEkH2owT28TV+zJak71V3/PGSR94++589SgvGaP5Y3bkzag0yHmveboTKe4eRW+ZJgK5eZkpTGcF\n",
              "XhqG3yIUmU830wVHuboceskfK31rfTrU86aiE8nhumZ3WFhr/LlNfnhiDiu4rAQ0ylTErcM8gtwL\n",
              "LgloVum0uHjHuqbvGrTWvpJ5URypj8qRAv2Lsj2F4RRuzyIaccm7NBpFcNuped7yIRTwapdxwFQi\n",
              "DmVmlgjJIFjVigYZBVe56pDjmtxeioZcd5HEchntAXJblmAwR+qziBapndLTmc8HCwjaBcQTLJ85\n",
              "g9eUtgiQ9y7W8jBu8MH8rP7wrJs3aGmcGsG19zXTUs77DpJR+Sf8ogILFfSV9kthKbXTLVaaaJLV\n",
              "1ISYKfzATm3c86KZGwZwKc+cj+gONua8huyPQvqTwKYKMXqNgGwHpBWmY1R5hPCQhVbfq3NVRU18\n",
              "xPV9/lcELKD6M0c1R0/eijnRLvPcGK+IEg6EXMlyJDZ0ORH327XUpVUOjsLZM8PqKYGgjqmqFsMw\n",
              "VhtbtDBna7ew8MWDNr+tt0OkJU3iNmNFd3Lx+1QhC1hSALx4Gb3PE4mGKovk+8mQzIKhjeMOPb9s\n",
              "SofovRoNC8TUn3jsqtAb4tjSLVbdQI9L/kUeDixqLXFo1U5qPftA6vuANr48tGz10kdlRl3gvAjZ\n",
              "tmkTzisa1wqGUaHsuWZX6zGteXSI/G4OYc8rm3zKALV++xwVhRQ3zgmrNF9zajzxXsol7rU+uccK\n",
              "aoKt27C0uga3kvy2znLIhhz//UTVmxfRaMXPwesWaHOTgC1leHIOI1MJAzljxm4SMXX+P+38GVyr\n",
              "D/cvW4PSVPvdRA+CjwB249xkjHO7ZTil1ZDH2hztA1UCcosOebb4P4OIsb4rq+f7T2mbjWZ3uxy+\n",
              "33qNopzFTjHRa0kEiJ7NHAfKZ8tzp4TUAYw0/HZSisfdzU9TvlA10iPZERYdpzGP0JJX3iG51xg9\n",
              "IBRpJwRaprvQGYFywkRVno5wtxPUHKnPj5NvtVpKL/3ddIF0JeXnaQiPnGBWb3PC1GrN4UjwgBiT\n",
              "qToiK1YXQjmpIHWDwMYRjjK2x+ObqDmZ61tO0pUihZcXIoPE0uDHF4KcR4ABYiPrZWnADrfcmH+m\n",
              "/7nFXKfgbnvjia2mWrb51pnL4ZumoRLqaVRP0Y0fEMG0yCvp15gKDoWHiJV4C4EwmGTLVFehJxs8\n",
              "D6B0xN4bAqSqqtsfMDvkviI7I891XqRZJ5DpQhKiz0FjBRNgFIkbgk58fg4wGg0e8+aZsnX2mJ2f\n",
              "zEMxJJ5LXokkV2jREknx1vbLtUqwioWBMkxiSnKA2Jhs5sl5aljkafu7XcF845GU4sXiQfz0N1Iw\n",
              "34rnXchVPsjJfBJKafYtlGcUP/uZGz4aaouN550n478qrVDuVbmi/QuF4nyJSNqIdsCM3qPrdz6d\n",
              "E5cBnXQqBcl1ikPQt+8x6HE+vnE+sZVsXmSsAvM6i1IFUR5hEmyxSxuj8Cwv2CydoXlAzMKqwwrC\n",
              "kRi+cul6jjaUQCNxHOnf5ylQS3bALgTJKJJgQckjkObNcW45fNOftgLOM9qrudW8PdoMbqWl5l83\n",
              "28OZ4RUuFTlAukK5YYQGj6GRcKe7gFXBGjxIWmLcEDbcte10jXsesL/KfJQRQsQq5l+IU+SBurYz\n",
              "A4GSDQjggjhiW6yFQ2oe6wUn+r6l6tPEIPMpS7WD1f6DQLz/rEjoEA+93dlCxw8FPkqT+SIuM1PV\n",
              "stfxWx6nC9ZG2X4OHZzGMqJ3RUT+cnoXtvKl9xM/bg65qBdEX5jBNrGsVYNl0fzQ4lYtv4K41AeT\n",
              "MW0hOkRm5Lfu1aEXE5ekS5Z2nrUXUX/C8ZjT0YtDCdyJlAlx8j0nEO4oNUGrIT6jAWfooCGj3gHh\n",
              "Z8HUshxw8e0HgxMmThLSqPrp0D3GQtNs04fIjsDmy52KNgheVayeWQ+ZYUMtV3zvB44wfcLXJacq\n",
              "xqgCxTf7o41mM1bWJOa4Yf6oUHMTNURqPUWovByJPXG/amp9aiBeXKKbZB4YxZ+Id6P3eyHrOE92\n",
              "fALyW72wDt+ONTiTLnb7KBQmlkv+zIm+UB0byXPCYKcFlauSu77QxGFFjJ1q8ak5mJLqwIAjbTTt\n",
              "judf+1ebLZdERPW8acQjR6qEJ+yL6JAAeE62K1sD6ynDpJgzfQezLaMMZ+eO0EumfAUi1hDw+UT4\n",
              "9+mjmXYPorgyHw7CQybC98c+y1glOfeXqQHmGh8xl2HPxUDcpM2Lnk2drROlU+M0kwr2lKj+w2ii\n",
              "dkjQtoytUhbafIq2M7BwJVKAIefbvRb3hjfxx3xhGJkeEW1a9dTAjnZUFzOy9S+6J49Xq7dCY1ga\n",
              "QmXfnNRq4sU88K2HodS6VcLWXxMybIqBLnrj7lRSIZlw68Km00fBddDcPSnMrafj0fscSiydoCet\n",
              "ITuFC39NOMAO8JWgRpEvxlhXxqbIC63+M3VFDRvVfc/TLZ35N3r4nMFlFLu39El84QJfjVHGxYdz\n",
              "w+kVWUdp9cA7pdX5OXcu5IM6K175O9tizjgOzELBavl8CdA7R/hjPx/33CeIOTIJn1NCjeROpfWu\n",
              "eFVOJQOOIUCFi+B0cMs1vjTzqMxAEieQ5/fprkkWQOGVpbWN0m4q90gQXo6m9LLZ7cjhBGp2PkBV\n",
              "wUUcc+wfDLfuOadxBZF8lCRUgJTHN74PRosVFR5YSSWeOyMUksqTBQJSCsWkRY+Fz9v4O2UeOZxg\n",
              "ZL/FBkfx5bQoTsXKUC2ee1+/TToJm9MlG+CTpsxzNySTrmtWMCcYckkWpdl99zriTQ5jqlGoYGBj\n",
              "SgJLreiKAX+ABT07AW4bi6SSS9XDmdTNjnvU+UU77eMmJ/oEau2zgar+uA+t5XHR18QL2aNyY+OA\n",
              "ur6gSVDPhap/Y+lrsrzWwE5qbeuJ2B78cxR4l1zzm8NouvnGpxE8r5YmxLZZmSP35te4ukoIMypG\n",
              "9f9szaE6yXSxEnF//P0yh0xxE5yQ7lpOVVn5cPrBN27CYU5DRPi9+eVhsAEHXmn7xCNxVw96JAny\n",
              "st+hVkRDWY+mgBLdEycR5b8tWf5PoJZpEitggrskDmvBX/FXT1UgtRAmOOX1D7QEESpMxVnFc3Ao\n",
              "LLsAQIcyhi43cEsBJ8lkmv/cGy44qU5YOeLBgerC+NFb1l+woq2inAHeK9d06z/bWkIYFDx7UV7G\n",
              "rDRSkLhcbGYRX4a1Ex1npsfuu1wa8EtZyi4HtDscQf/OqK92V7JnB7ZAKZQch6Xvcj0RkoCA4tTy\n",
              "dmFDTj2FL1COqsCutYTHnKrdPfrsHqzdu4VKzRrsAij442Fg3Z7WT6HAYH9nxyjYAZmK9T0fcHTH\n",
              "oQW6nSDZv6w1sPihZOsRhTqEFmi99PJ6hOXoXiHhobtO+l2UoXwbY6d4wmG3eeDdakcTsMJIm6qb\n",
              "aprOm5MABVhxnOuezz/4TkXyP6Qnz/IwqaLT5eq0MJLvroc44h97kG9M/4eRdjHHiIMMGcZrPxMw\n",
              "6mW45SkxjCDe6b7obdlWis3Kb6PLeNN06/mllSlH7iop5mRL1XgafYQrXi75qqYLpxfSYb0OcC/X\n",
              "JcYWCztEAmWSzsDBdAstfIApesd3KFCcMbr3irNJv4/YAK2zO9CfnUlwc0snJ0dPIV4t/gIZJlwc\n",
              "SjEjbeUAJMxrXIc2vSnz3EWjtXm4lfadpwLllMFhuW13CUEd+L2Yo//S3de1MYsnspcP3Gf9XM1O\n",
              "274MYZwbvpsDbgT0wY2RFn/0JMrZHxfOOo4NgBt3lxhHau1JBc8qxQLEVnK3mF//+hsMgml2bZZe\n",
              "9/w3VDLaV6jI9n0lXGcW+tfHdZtpyjCCa9rhfG/Ldja4JJbP48NPUdu5eE51FHZIqYkTBkD8Wyc2\n",
              "3gJhXHoG0DAgII5COPdkb8oL1vE9Vum5nmzW1SEhRKv7QIPyDoKqCMityj3JIa6qvrSPW/guEiYG\n",
              "S8YNgmm3073RvPhxOgryzNqbD7TE38x6E0wcNmhlfEpB4i0NtjriKs6Ap9X2HIVSYO1CBaSqzCgk\n",
              "gb7+mSP2Degx/eQztJUo2IunjoQVGBbZqJ/oh1PtweqSv/i5yqg0Q8cvX1al0LBkELXq+z4Yj2/t\n",
              "11//73WbvWo95+TmLfhfAc70tPGlu6+H7R8ve+iABubYHJh3YkCD1Aa7n64Phdj0Xyq2pccTvVOZ\n",
              "Er7mtBhhyAN+ExHZ5sGb6pJRokfRs44J97HgJCV/0nci402pAAAA00GaJGxD//2Bl0ACdx72/KoO\n",
              "mOxqtf/sWdw71NEUJoMI48C1BCUvwVBVGR8aETFm9q29xjo/JLkBDIIqahHuWbuRuNvekJYUK7U/\n",
              "b8Vr6MSMUl8a1N2Rq0ZFBowziuieUpVbcipXyyI+IbE5m568yeqTivS7TsaQ5NUWBq+wddcBLgUE\n",
              "IdVu1Hf/tnVIqxqvD5ptDmLCmqu7pJJzcKbXHmjICRG4ruen80sN+PiGTnMICWE8YerlW99W39Vl\n",
              "N6N7PpOILEDtTDCpfrrp8rnUYRvXWpAAAAAZQZ5CeIZ/GItzDT3kHwtbUH0weRKX/wBVwQAAABUB\n",
              "nmF0Qr8ASV0M2SpFX4xaQZbTV2gAAAALAZ5jakK/AAADAYsAAAAVQZpoSahBaJlMCH///qmWAAAD\n",
              "APCBAAAAD0GehkURLDP/GLIjhiACtwAAAAsBnqV0Qr8AAAMBiwAAAAsBnqdqQr8AAAMBiwAAABVB\n",
              "mqxJqEFsmUwIf//+qZYAAAMA8IAAAAAPQZ7KRRUsM/8YsiOGIAK3AAAACwGe6XRCvwAAAwGLAAAA\n",
              "CwGe62pCvwAAAwGLAAAAFUGa8EmoQWyZTAh///6plgAAAwDwgQAAAA9Bnw5FFSwz/xiyI4YgArcA\n",
              "AAALAZ8tdEK/AAADAYsAAAALAZ8vakK/AAADAYsAAAAVQZs0SahBbJlMCH///qmWAAADAPCAAAAA\n",
              "D0GfUkUVLDP/GLIjhiACtwAAAAsBn3F0Qr8AAAMBiwAAAAsBn3NqQr8AAAMBiwAAABVBm3hJqEFs\n",
              "mUwIf//+qZYAAAMA8IEAAAAPQZ+WRRUsM/8YsiOGIAK2AAAACwGftXRCvwAAAwGLAAAACwGft2pC\n",
              "vwAAAwGLAAAAFUGbvEmoQWyZTAh3//6plgAAAwDwgAAAAA9Bn9pFFSwz/xiyI4YgArcAAAALAZ/5\n",
              "dEK/AAADAYsAAAALAZ/7akK/AAADAYsAAAAVQZvgSahBbJlMCHf//qmWAAADAPCBAAAAD0GeHkUV\n",
              "LDP/GLIjhiACtgAAAAsBnj10Qr8AAAMBiwAAAAsBnj9qQr8AAAMBiwAAABRBmiRJqEFsmUwIb//+\n",
              "p4QAAAMB3QAAAA9BnkJFFSwz/xiyI4YgArcAAAALAZ5hdEK/AAADAYsAAAALAZ5jakK/AAADAYsA\n",
              "AAATQZpnSahBbJlMCFf//jhAAAAccQAAAA1BnoVFFSwv/wAAAwEfAAAACwGepmpCvwAAAwGLAAAF\n",
              "Bm1vb3YAAABsbXZoZAAAAAAAAAAAAAAAAAAAA+gAAAfQAAEAAAEAAAAAAAAAAAAAAAABAAAAAAAA\n",
              "AAAAAAAAAAAAAQAAAAAAAAAAAAAAAAAAQAAAAAAAAAAAAAAAAAAAAAAAAAAAAAAAAAAAAAAAAAIA\n",
              "AAQwdHJhawAAAFx0a2hkAAAAAwAAAAAAAAAAAAAAAQAAAAAAAAfQAAAAAAAAAAAAAAAAAAAAAAAB\n",
              "AAAAAAAAAAAAAAAAAAAAAQAAAAAAAAAAAAAAAAAAQAAAAAGwAAABIAAAAAAAJGVkdHMAAAAcZWxz\n",
              "dAAAAAAAAAABAAAH0AAABAAAAQAAAAADqG1kaWEAAAAgbWRoZAAAAAAAAAAAAAAAAAAAKAAAAFAA\n",
              "VcQAAAAAAC1oZGxyAAAAAAAAAAB2aWRlAAAAAAAAAAAAAAAAVmlkZW9IYW5kbGVyAAAAA1NtaW5m\n",
              "AAAAFHZtaGQAAAABAAAAAAAAAAAAAAAkZGluZgAAABxkcmVmAAAAAAAAAAEAAAAMdXJsIAAAAAEA\n",
              "AAMTc3RibAAAALNzdHNkAAAAAAAAAAEAAACjYXZjMQAAAAAAAAABAAAAAAAAAAAAAAAAAAAAAAGw\n",
              "ASAASAAAAEgAAAAAAAAAAQAAAAAAAAAAAAAAAAAAAAAAAAAAAAAAAAAAAAAAAAAAABj//wAAADFh\n",
              "dmNDAWQAFf/hABhnZAAVrNlBsJaEAAADAAQAAAMAoDxYtlgBAAZo6+PLIsAAAAAcdXVpZGtoQPJf\n",
              "JE/FujmlG88DI/MAAAAAAAAAGHN0dHMAAAAAAAAAAQAAACgAAAIAAAAAFHN0c3MAAAAAAAAAAQAA\n",
              "AAEAAAFIY3R0cwAAAAAAAAAnAAAAAQAABAAAAAABAAAKAAAAAAEAAAQAAAAAAQAAAAAAAAABAAAC\n",
              "AAAAAAEAAAoAAAAAAQAABAAAAAABAAAAAAAAAAEAAAIAAAAAAQAACgAAAAABAAAEAAAAAAEAAAAA\n",
              "AAAAAQAAAgAAAAABAAAKAAAAAAEAAAQAAAAAAQAAAAAAAAABAAACAAAAAAEAAAoAAAAAAQAABAAA\n",
              "AAABAAAAAAAAAAEAAAIAAAAAAQAACgAAAAABAAAEAAAAAAEAAAAAAAAAAQAAAgAAAAABAAAKAAAA\n",
              "AAEAAAQAAAAAAQAAAAAAAAABAAACAAAAAAEAAAoAAAAAAQAABAAAAAABAAAAAAAAAAEAAAIAAAAA\n",
              "AQAACgAAAAABAAAEAAAAAAEAAAAAAAAAAQAAAgAAAAABAAAIAAAAAAIAAAIAAAAAHHN0c2MAAAAA\n",
              "AAAAAQAAAAEAAAAoAAAAAQAAALRzdHN6AAAAAAAAAAAAAAAoAAAcBgAAANcAAAAdAAAAGQAAAA8A\n",
              "AAAZAAAAEwAAAA8AAAAPAAAAGQAAABMAAAAPAAAADwAAABkAAAATAAAADwAAAA8AAAAZAAAAEwAA\n",
              "AA8AAAAPAAAAGQAAABMAAAAPAAAADwAAABkAAAATAAAADwAAAA8AAAAZAAAAEwAAAA8AAAAPAAAA\n",
              "GAAAABMAAAAPAAAADwAAABcAAAARAAAADwAAABRzdGNvAAAAAAAAAAEAAAAsAAAAYnVkdGEAAABa\n",
              "bWV0YQAAAAAAAAAhaGRscgAAAAAAAAAAbWRpcmFwcGwAAAAAAAAAAAAAAAAtaWxzdAAAACWpdG9v\n",
              "AAAAHWRhdGEAAAABAAAAAExhdmY1Ny44My4xMDA=\n",
              "\">\n",
              "  Your browser does not support the video tag.\n",
              "</video>"
            ],
            "text/plain": [
              "<IPython.core.display.HTML object>"
            ]
          },
          "metadata": {},
          "execution_count": 12
        }
      ]
    }
  ]
}