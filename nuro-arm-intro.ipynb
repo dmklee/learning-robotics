{
  "nbformat": 4,
  "nbformat_minor": 0,
  "metadata": {
    "colab": {
      "name": "nuro-arm.ipynb",
      "provenance": [],
      "collapsed_sections": [],
      "authorship_tag": "ABX9TyObubxMhQ99gNOc2A68Jj5X",
      "include_colab_link": true
    },
    "kernelspec": {
      "name": "python3",
      "display_name": "Python 3"
    },
    "language_info": {
      "name": "python"
    }
  },
  "cells": [
    {
      "cell_type": "markdown",
      "metadata": {
        "id": "view-in-github",
        "colab_type": "text"
      },
      "source": [
        "<a href=\"https://colab.research.google.com/github/dmklee/nuro-arm/blob/main/nuro-arm-intro.ipynb\" target=\"_parent\"><img src=\"https://colab.research.google.com/assets/colab-badge.svg\" alt=\"Open In Colab\"/></a>"
      ]
    },
    {
      "cell_type": "markdown",
      "metadata": {
        "id": "ypuwjg60tveS"
      },
      "source": [
        "## Clone and install github repo\n"
      ]
    },
    {
      "cell_type": "code",
      "metadata": {
        "id": "2EODOPtzKN2x",
        "colab": {
          "base_uri": "https://localhost:8080/",
          "height": 734
        },
        "outputId": "799feae5-47d0-46b2-d529-5a26d05a4f92"
      },
      "source": [
        "!git clone https://github.com/dmklee/nuro-arm.git\n",
        "!pip install nuro-arm/"
      ],
      "execution_count": 9,
      "outputs": [
        {
          "output_type": "stream",
          "text": [
            "fatal: destination path 'nuro-arm' already exists and is not an empty directory.\n",
            "Processing ./nuro-arm\n",
            "\u001b[33m  DEPRECATION: A future pip version will change local packages to be built in-place without first copying to a temporary directory. We recommend you use --use-feature=in-tree-build to test your packages with this new behavior before it becomes the default.\n",
            "   pip 21.3 will remove support for this functionality. You can find discussion regarding this at https://github.com/pypa/pip/issues/7555.\u001b[0m\n",
            "Requirement already satisfied: numpy in /usr/local/lib/python3.7/dist-packages (from nuro-arm==0.0.1) (1.19.5)\n",
            "Requirement already satisfied: opencv-contrib-python in /usr/local/lib/python3.7/dist-packages (from nuro-arm==0.0.1) (4.1.2.30)\n",
            "Requirement already satisfied: pybullet==3.1.7 in /usr/local/lib/python3.7/dist-packages (from nuro-arm==0.0.1) (3.1.7)\n",
            "Requirement already satisfied: matplotlib in /usr/local/lib/python3.7/dist-packages (from nuro-arm==0.0.1) (3.2.2)\n",
            "Requirement already satisfied: sklearn in /usr/local/lib/python3.7/dist-packages (from nuro-arm==0.0.1) (0.0)\n",
            "Requirement already satisfied: scipy in /usr/local/lib/python3.7/dist-packages (from nuro-arm==0.0.1) (1.4.1)\n",
            "Requirement already satisfied: gym in /usr/local/lib/python3.7/dist-packages (from nuro-arm==0.0.1) (0.17.3)\n",
            "Requirement already satisfied: easyhid in /usr/local/lib/python3.7/dist-packages (from nuro-arm==0.0.1) (0.0.10)\n",
            "Requirement already satisfied: cffi in /usr/local/lib/python3.7/dist-packages (from easyhid->nuro-arm==0.0.1) (1.14.6)\n",
            "Requirement already satisfied: pycparser in /usr/local/lib/python3.7/dist-packages (from cffi->easyhid->nuro-arm==0.0.1) (2.20)\n",
            "Requirement already satisfied: cloudpickle<1.7.0,>=1.2.0 in /usr/local/lib/python3.7/dist-packages (from gym->nuro-arm==0.0.1) (1.3.0)\n",
            "Requirement already satisfied: pyglet<=1.5.0,>=1.4.0 in /usr/local/lib/python3.7/dist-packages (from gym->nuro-arm==0.0.1) (1.5.0)\n",
            "Requirement already satisfied: future in /usr/local/lib/python3.7/dist-packages (from pyglet<=1.5.0,>=1.4.0->gym->nuro-arm==0.0.1) (0.16.0)\n",
            "Requirement already satisfied: kiwisolver>=1.0.1 in /usr/local/lib/python3.7/dist-packages (from matplotlib->nuro-arm==0.0.1) (1.3.1)\n",
            "Requirement already satisfied: python-dateutil>=2.1 in /usr/local/lib/python3.7/dist-packages (from matplotlib->nuro-arm==0.0.1) (2.8.2)\n",
            "Requirement already satisfied: pyparsing!=2.0.4,!=2.1.2,!=2.1.6,>=2.0.1 in /usr/local/lib/python3.7/dist-packages (from matplotlib->nuro-arm==0.0.1) (2.4.7)\n",
            "Requirement already satisfied: cycler>=0.10 in /usr/local/lib/python3.7/dist-packages (from matplotlib->nuro-arm==0.0.1) (0.10.0)\n",
            "Requirement already satisfied: six in /usr/local/lib/python3.7/dist-packages (from cycler>=0.10->matplotlib->nuro-arm==0.0.1) (1.15.0)\n",
            "Requirement already satisfied: scikit-learn in /usr/local/lib/python3.7/dist-packages (from sklearn->nuro-arm==0.0.1) (0.22.2.post1)\n",
            "Requirement already satisfied: joblib>=0.11 in /usr/local/lib/python3.7/dist-packages (from scikit-learn->sklearn->nuro-arm==0.0.1) (1.0.1)\n",
            "Building wheels for collected packages: nuro-arm\n",
            "  Building wheel for nuro-arm (setup.py) ... \u001b[?25l\u001b[?25hdone\n",
            "  Created wheel for nuro-arm: filename=nuro_arm-0.0.1-py3-none-any.whl size=3862524 sha256=0aa30bfdab720710e59a14033f5606b23223b10365b58beeb04d6185bb6b2224\n",
            "  Stored in directory: /root/.cache/pip/wheels/10/03/f4/741a634e94648d97b14be760853bd353ef7beb7f96ccbb8578\n",
            "Successfully built nuro-arm\n",
            "Installing collected packages: nuro-arm\n",
            "  Attempting uninstall: nuro-arm\n",
            "    Found existing installation: nuro-arm 0.0.1\n",
            "    Uninstalling nuro-arm-0.0.1:\n",
            "      Successfully uninstalled nuro-arm-0.0.1\n",
            "Successfully installed nuro-arm-0.0.1\n"
          ],
          "name": "stdout"
        },
        {
          "output_type": "display_data",
          "data": {
            "application/vnd.colab-display-data+json": {
              "pip_warning": {
                "packages": [
                  "nuro_arm"
                ]
              }
            }
          },
          "metadata": {}
        }
      ]
    },
    {
      "cell_type": "markdown",
      "metadata": {
        "id": "PmkeNpfKK4DI"
      },
      "source": [
        "### Helper functions for visualization"
      ]
    },
    {
      "cell_type": "code",
      "metadata": {
        "id": "MjooXRc5K3ou"
      },
      "source": [
        "import matplotlib.pyplot as plt\n",
        "import numpy as np\n",
        "from matplotlib import animation\n",
        "from IPython.display import HTML\n",
        "\n",
        "def show_video(video):\n",
        "  fig = plt.figure()\n",
        "  im = plt.imshow(video[0])\n",
        "  plt.axis('off')\n",
        "  plt.tight_layout(pad=0)\n",
        "  plt.close()\n",
        "\n",
        "  def animate(i):\n",
        "    im.set_data(video[i])\n",
        "\n",
        "  anim = animation.FuncAnimation(fig, animate, frames=len(video), interval=50)\n",
        "  return HTML(anim.to_html5_video())\n",
        "\n",
        "def show_image(image):\n",
        "  fig = plt.figure()\n",
        "  im = plt.imshow(image)\n",
        "  plt.axis('off')\n",
        "  plt.tight_layout(pad=0)\n",
        "\n",
        "# pose matrix for camera that looks upon scene from side\n",
        "side_view_pose_mtx = np.array([[-0.866, 0.3214,-0.3830, 0.3264],\n",
        "                               [-0.5, -0.5567, 0.663, -0.351],\n",
        "                               [-0, -0.766, -0.6428, 0.514],\n",
        "                               [0, 0, 0, 1]])"
      ],
      "execution_count": 10,
      "outputs": []
    },
    {
      "cell_type": "markdown",
      "metadata": {
        "id": "atyDdJmCuA9t"
      },
      "source": [
        "# Create simulated robot"
      ]
    },
    {
      "cell_type": "code",
      "metadata": {
        "id": "6KKmBodpcE6A"
      },
      "source": [
        "from nuro_arm import RobotArm, Camera, Cube\n",
        "\n",
        "robot = RobotArm('sim', realtime=True)\n",
        "side_view_camera = Camera('sim', pose_mtx=side_view_pose_mtx)\n",
        "camera = Camera('sim')\n",
        "\n",
        "cube = Cube(pos=[0.2, 0, 0.0125], tag_id=0)\n"
      ],
      "execution_count": 47,
      "outputs": []
    },
    {
      "cell_type": "code",
      "metadata": {
        "id": "vVc8GsAOgWMH",
        "colab": {
          "base_uri": "https://localhost:8080/",
          "height": 319
        },
        "outputId": "eebe78d2-bf8e-48b2-c468-14f6cd534442"
      },
      "source": [
        "# visualize the scene\n",
        "image = side_view_camera.get_image()\n",
        "show_image(image)"
      ],
      "execution_count": 39,
      "outputs": [
        {
          "output_type": "display_data",
          "data": {
            "image/png": "[encoded data removed]",
            "text/plain": [
              "<Figure size 432x288 with 1 Axes>"
            ]
          },
          "metadata": {
            "needs_background": "light"
          }
        }
      ]
    },
    {
      "cell_type": "code",
      "metadata": {
        "colab": {
          "base_uri": "https://localhost:8080/",
          "height": 371
        },
        "id": "vPtjkG1u5RJ2",
        "outputId": "fc00c224-e400-400d-cd9b-5038eb1dd2f8"
      },
      "source": [
        "# detect cube with aruco tag\n",
        "detected_cube = camera.find_cubes(tag_size=0.0254*0.75)[0]\n",
        "\n",
        "# show image with cube vertices highlighted\n",
        "image = camera.get_image()\n",
        "show_image(image)\n",
        "pixel_vertices = camera.project_world_points(detected_cube.vertices)\n",
        "for v in pixel_vertices:\n",
        "  plt.plot(*v, 'r.')"
      ],
      "execution_count": 44,
      "outputs": [
        {
          "output_type": "stream",
          "text": [
            "Detection position error : 0.010\n",
            "[ 0.20674215 -0.00607652  0.00890674]\n",
            "(0.20000016283340763, 4.198144232602786e-06, 0.012407905777402271)\n"
          ],
          "name": "stdout"
        },
        {
          "output_type": "display_data",
          "data": {
            "image/png": "[encoded data removed]",
            "text/plain": [
              "<Figure size 432x288 with 1 Axes>"
            ]
          },
          "metadata": {
            "needs_background": "light"
          }
        }
      ]
    },
    {
      "cell_type": "code",
      "metadata": {
        "id": "k6VPsLpQ8m-A"
      },
      "source": [
        "# picking up the cube\n",
        "side_view_camera.start_recording(1)\n",
        "\n",
        "robot.open_gripper()\n",
        "robot.move_hand_to( detected_cube.pos )\n",
        "# robot.move_hand_to( cube.get_position() )\n",
        "robot.close_gripper()\n",
        "robot.home()\n",
        "\n",
        "video = side_view_camera.wait_for_recording()"
      ],
      "execution_count": 45,
      "outputs": []
    },
    {
      "cell_type": "code",
      "metadata": {
        "colab": {
          "base_uri": "https://localhost:8080/",
          "height": 309
        },
        "id": "i0_-WoQF95pw",
        "outputId": "1609ae8a-3ef9-486b-804f-ace4f4d67231"
      },
      "source": [
        "show_video(video)"
      ],
      "execution_count": 46,
      "outputs": [
        {
          "output_type": "execute_result",
          "data": {
            "text/html": [
              "<video width=\"432\" height=\"288\" controls autoplay loop>\n",
              "  <source type=\"video/mp4\" src=\"data:video/mp4;base64,AAAAHGZ0eXBNNFYgAAACAGlzb21pc28yYXZjMQAAAAhmcmVlAAAZFW1kYXQAAAKuBgX//6rcRem9\n",
              "5tlIt5Ys2CDZI+7veDI2NCAtIGNvcmUgMTUyIHIyODU0IGU5YTU5MDMgLSBILjI2NC9NUEVHLTQg\n",
              "QVZDIGNvZGVjIC0gQ29weWxlZnQgMjAwMy0yMDE3IC0gaHR0cDovL3d3dy52aWRlb2xhbi5vcmcv\n",
              "eDI2NC5odG1sIC0gb3B0aW9uczogY2FiYWM9MSByZWY9MyBkZWJsb2NrPTE6MDowIGFuYWx5c2U9\n",
              "MHgzOjB4MTEzIG1lPWhleCBzdWJtZT03IHBzeT0xIHBzeV9yZD0xLjAwOjAuMDAgbWl4ZWRfcmVm\n",
              "PTEgbWVfcmFuZ2U9MTYgY2hyb21hX21lPTEgdHJlbGxpcz0xIDh4OGRjdD0xIGNxbT0wIGRlYWR6\n",
              "b25lPTIxLDExIGZhc3RfcHNraXA9MSBjaHJvbWFfcXBfb2Zmc2V0PS0yIHRocmVhZHM9MyBsb29r\n",
              "YWhlYWRfdGhyZWFkcz0xIHNsaWNlZF90aHJlYWRzPTAgbnI9MCBkZWNpbWF0ZT0xIGludGVybGFj\n",
              "ZWQ9MCBibHVyYXlfY29tcGF0PTAgY29uc3RyYWluZWRfaW50cmE9MCBiZnJhbWVzPTMgYl9weXJh\n",
              "bWlkPTIgYl9hZGFwdD0xIGJfYmlhcz0wIGRpcmVjdD0xIHdlaWdodGI9MSBvcGVuX2dvcD0wIHdl\n",
              "aWdodHA9MiBrZXlpbnQ9MjUwIGtleWludF9taW49MjAgc2NlbmVjdXQ9NDAgaW50cmFfcmVmcmVz\n",
              "aD0wIHJjX2xvb2thaGVhZD00MCByYz1jcmYgbWJ0cmVlPTEgY3JmPTIzLjAgcWNvbXA9MC42MCBx\n",
              "cG1pbj0wIHFwbWF4PTY5IHFwc3RlcD00IGlwX3JhdGlvPTEuNDAgYXE9MToxLjAwAIAAABSLZYiE\n",
              "AD///vdonwKbWj8TyEQ/22AKEO1/SaGB2LXKtTPJn74Gvr4hFHr7diG90Qt54GAa8yhnbHaZJHzv\n",
              "JQzT9Or3Zj664PIR17xYb22LqKQbxCjrn0RQCEjv/NptOcdffcbzGk9lAsF4RzNZc2BBu1zYHlOj\n",
              "s+JJarFzkop3hDoyXnceCxSU7PZGRQyO/axeat0cYPyhCjLHiw/j1tJBv2KGBEUAUIYquK/5JJIu\n",
              "Vtf4H0sYOJdtH1bpZy2GRdmS3AKlOYWc5wog4tE5WIqOBJSZQXywNrtBuZ6fDp1Vw33V4HDq652F\n",
              "0afwEzeA0EVK5IhbVfMjIGI0cnQG64FAiedd/zAdIUyB2fGIKKer5xZChdzRUrlyJmJux2OKr1GS\n",
              "/h+9MTN9++1YLsuPPstm/pQu9rkHGKLRcQULLDgx4jeZe0tua0wPBl9LuLA2yyH2TPuDiqq/AAij\n",
              "AtQrbLGDxg0emiduZtbfmM9/Bqliu4i7XowsO4/AYD1GvgazVMyrn2w2m+SoGDAx66AbB6vf0jo1\n",
              "S5MbGjyYx6uGxV2iAisx53sWl6BxD70JTpgiVJok3TFG7QF9we/wnqaXj3gItZoPzoMvxkuVdks5\n",
              "WYV32FwsYDiGYBLOkNzWBCW1N3bWDRC3MMmq9zOgIKbKYhqWhl7Eez4HPtbNydv6QU7mf/iytAdm\n",
              "DUot6sT5P1eq2epHNVN2ZGGCH7QZLNn3hJ+rXyT6XQZoD0eMaZO6XXM0k5MYvGWf4zaSXKtdN+sX\n",
              "kwTmt9z+uNQYEkxD+NpihCUvFq7wWXtLOSYQa1baWPYG02yMrksWRuMCo5m94HlyEPbjp8AAqONS\n",
              "z88erOoeJkqYxQqHCImaZsIsK0IDGQw99WOEaBSGdZjmSRZUyK/3vUoZD1LxDZHwH8+NlG++6+uj\n",
              "PhU6hn6JKdbyI+AAFTO4nZEYVJiZldsPlgIG9JxmTAj9js5HfkBUweHIlr0hwIlcs1t2v29euUJi\n",
              "B8liMe4ch+4Ur1T6vmW6PF49ReAF6Jf8WGaXekdPWpmZQtu5gtt8p/mseBM3/u4shdkN//z6nNTt\n",
              "0WVV/oh3qrlLeu+vRj8bCOHafVNHmGdnVqBeL7kx/LFm6Z52a3duFqqyQOitSODTzA4aY2hrhrdV\n",
              "FA0zyvzt1uZXnMMp5lAfTKWsR3tQUvr5KvW4jUsyQ6vi5MRMW+L+soI/s8dZlkEi/P1K8GVNQ1WP\n",
              "w0hwcSBPA5kLdsLW7Uikg6IYyloOX6QandELQEUPXepQXPEEAKUAFv6/wS373NjUlcSMRg3NwtB4\n",
              "oFlAe5uW/y2TQSKvoNCEr4ecbiMvKlwxiQQNR0HwCtAlDathS7mZ0zvdgyfO8zZAza5L7cWejMYl\n",
              "/ilTYbf/4Ph1HW5U/5cEgALgpXJlFT0vnAWU09H6wFgxCYRuZkLALUKwI+tP2+XglOtSRED6xlVE\n",
              "U4pLebJ9SDfIpazdmqu+mw8i4Kckyx1r3dRerdhbAnWLJMEQq5uX49O2+K4HkLKlB1OHF5g0WSXW\n",
              "9TDjCFfUCIMKgQC6SXoH+KzGjNXdx+uvg2FF1vFf10FhrZ2qq0WOkDf48KF2bBb/OcymmHIpgxVA\n",
              "tUF6oWnS0sRTP0E0KAhvv/cOgAfTB6+xEl2Edi+ELwwKx/5uGbtkDL8a/WwpIi9r8r0dRpeza3L/\n",
              "W6cvopI/1rcdWIminm8/lsRHpEDWdUjiX725xS29heXjkZIOkoKwCc9rYgrCz5thVGuTwmv0TNuJ\n",
              "Gi0e/b9U6QRyg2UL6HQTTurZA/yytF/gHzhjsnSfYi9Sq9M1AOC0gn/HpHNe3SPaLRYatDKDJMEp\n",
              "m5Qk5CADkTmVC2fGvqojlCvtI/18zLMBc1FKpurLDHNdtSq7oEFF+XWsYaOr7BXta/eEwEydQpgW\n",
              "ZR3bzHr1q2FDXqlnNosyaXKXOVT6cNZKm3s75s5nx3gwG+d3sgOQtIYViNhTMRXC4PqARz/MC9g1\n",
              "CWSNLVVik8Sc6EJ+FsV/BCQxruRrPi+IjsZKM3j5VPqd9iPctIIDT2ipr/zri3bOi6CN/hYZivT/\n",
              "rZhqUtE396QjfCVcDSdewVFlmmzRVQiFUqnpgUR3qeHN/BvXnGRTKHulpkTGx/bRviqklu0Ap2Qr\n",
              "qznWNtcp0K+856WEaKiuCl9ffXJxyps5x27xpNSNTujKAA+xvv3lA5eeCazh7i1XNH/3s9IZ+KjG\n",
              "xxiSrt+O2ZswwDzd+59KyVpOi6WLLbaQFI637hip4Wfy0GRs8hpXytpgNBBNbuSanDKPvx38DWMb\n",
              "cmJLMONVmbcVYyINRwWq16UY71IFQWu3vJG4qt/rSd3hrWHTVQOTKdfgVmoYMFMoRcx8IJ8VCTfL\n",
              "sSU4/fzjEUr/I1Fp3LXoGyxEOHm6Crvsr00aPNXmtkURU6t1QU9mhEkpKVj16UZjd7IcoCeKb7II\n",
              "TayonP47cmhwFfYRI+LBu2EomTQv0fNEVQuNsyTTWwEU22LN6xo0RHirTLXOgrLr0h1yZpRv+4Vt\n",
              "/8s5ImMBDHXL8C8HN3mOQYZUkYjRg414NThFvVdVwMoDGSU1YiymWPWfy5hQQLFQPcrWRK3s3k/S\n",
              "tbaOIaQXatvhCGwWVKUH7M+LSuqQX9Pz9NrsAvFh33CgXL09DUdvfban3uvDDCnAme9LB0VnAfyy\n",
              "V2oADrZqfrNSRj0AVzv8kmHi+7u/zxw8NjwI4R1dQH/29O9jaB824dXN6nDBmOCiTqRIjZChxQBs\n",
              "SI3ewBL3eUzOKxDGNQcO7w0Ja2eNRlndxw1TpkpJnsP9UqX+fP1rwZNKbnXJRw5OCogTnHlCUk1Y\n",
              "Tx06n+u9ks2fm61qERNlSwLBpvVA/09B9tCe7E2qx0vEIwZPPMauQaQCidDyhTCoczfBJzhj6Wgi\n",
              "EiTmjXkH5tQh2Fo0f/8WE2Y9kvVepjczlcBPGQnu1zZIKe7XNNHwJ/eDpaO6TVZQOqr7PC7JtWzo\n",
              "ujQfqV9bfliKf3S9vtBL62iNkKlU4SyGvHGLJCyQraJuP2FEZ6mMpOGFPyfJMzlwoydO7e3O9fpp\n",
              "7U3neMydhfs/DXAvqkEHPQSxXLDitVjGOV7GPvdXRyqse2uvP4PfeHjkrxzZX8JUYqVnCXrmJ3uO\n",
              "dTh20wCql9ElDMgZFXjgjJZ/w4jtB5LcoqKBdWfdw6ewmMwzIYAV1KqMG7HhJ7HOddU2ksfnZFHs\n",
              "zXMequU4jofdUwnN75PE7o2jyI6dC63jniYR24pjgevAwqLQhUmzSZ/IP8U7wsRAxdSYq8gbAjv/\n",
              "4KEO7ZSKdzZqKgb/vh1ib8xMhJM4YvkCa7jG1p7GSD91oHKVzxp/g14X4Y4B8Rwmf+nvpowpHkcK\n",
              "xTFjNU4o66JvuTxnJlfpx1BAwRxOKbgxu6Hb7IJNzS5o+vdXxcZ/x9FrV5WXMKMsvD6YygsrYJSO\n",
              "plWPb9CniJIG71F7sna1lCtRW5kSPp98YA9CSxR1+l4i7m637I7NFKFr7LkWIiq4jlzlf+BF+TD/\n",
              "5w5kdBNaQMRDjwWropG6JekSQHIfmPX7gJv7Umbsst4w6zBzIvie/gBFys34hmQvghMil5crcDtk\n",
              "rge6kbZ0t9YgydeuAC5lFeGK66AHhurENh36ugS5PegP6bhvNfcBsAMJqE6W1g9M3zZdxPk1U3/b\n",
              "lnlm/ptC/BEZIOpnKfsFiWmREDfr8euPitdXDpQgLfXa0ao8Dwe2kOAs6d8TqJRBGakSLnu7cZtj\n",
              "mY8DU8oO9EAllek4E8Lsq86NkUYdb6LxLBZHv8JyIjMcm443qx/yC/PZPUb87fnYtnWf9Q4RtBY/\n",
              "6bpr2lzEDVzvz/CYcUanYr2juX5svKrD1CQpE190o6ZCKWwbXMs8UKGJHHZEGvyENA3LuOD0O0iZ\n",
              "Ur4pMzeFBDdGbxLVfNGi20UfypfWBzCRcUM1Pb/6RvskNzSeH+woPEfR2iKIdmo7hX8x7kLatbyA\n",
              "bHVMV+uO2vDWQ9jquDZxvGOCiKywrY+oa+ZJ/wqDN/ccfYxJwP6Gqe2JuPnUCF0Rz0C9sDcMeJ87\n",
              "cwxZCXT3XOQ1O4z2PXYzfRm01TtFK5BTuysE0yeMzWSX5PL7xSaY56f9lpYGOt85qmO49MeyTjE+\n",
              "Xydkxo89WEQl095D9rLuIovyTuhZcO/466k/Opwm7bbTLUqW9jz1Yogl8OuSTLfNbz6Dt6jp+lpO\n",
              "UlrzP6pGAwnUkLG94El4SEdeA8zK3W/YegEkHSJwKKmh3POz3NAYDNAljQKs/KB6R28igj6hHwvJ\n",
              "/gC/tOMd6fBFajbrtXM+7UitggSW57rq9eGJLlYb4pPKnutA8xaYGLKWT+RVdo2o2r321RYq8voY\n",
              "EAU3ROz9iF0Z5Fvg8pcx1mppfu65cG/0X7JxAUx58GhxbjAPTYmxiCdVESSHs6EoLVm5TDi7PxEM\n",
              "RvnO3+pub0dOBfwmBOdfe5Fe+1G8lNUZE3YcTkP9LKzxfihWTtlLrYltcYcsZWCpti/mN4aoeBc8\n",
              "cOO7nNYLPEk5UAuDOSaT9hwb0zwCO/asBuc9A4rPAub7zBwY12W9hQKt3ypeFmRMcKfUt3NTmcYh\n",
              "ObOXQvObisDnZi9MaG0Me5o3dUXXb/5Bg68JpHmaqmv7poUnjZyoSFYIUABnryI+ajN55LsK9HaP\n",
              "c7zNXZU0GwrJBLNj2Qk0rq3Z7AAO9L0CWpFKig/PbBssEmr1a9rXoKxvXVt+Ki7hTPPVyMlurb7T\n",
              "7LemgAt8T63kUKFWkOaiyEkYpbdDZyNTxGMPSyBMB90GbQDoX0lIAEWdJCYBEHWO4nNJmyDJWjdQ\n",
              "0ZCZj+GNmNVS1DXO+PB1A65qfwsjaZ/OezpPzeziSeEruTYoaND4+x7l5j9YeVNcJJtkDxqpDGY3\n",
              "1ljWZ40faC61YS5peVWEMtuhxdoJ5Yd97EVxlb/KuPAfCUbLPE/s6hDKMNCgs6BQl6USQXY9MvG/\n",
              "3wGCfsCdBXk/aSI5WyPuG0fTarnfh66wFNqfZTf22oihezIB8j8VJQMxsN1wyUcU/A9QR51jxyAm\n",
              "loXaOjjEn4466Dit89joEKGcmUaRijcNXrNFbWNf7Z36W//V8LvQ48ZwU4wf8MLZiHLbP1D0HayM\n",
              "xcvmmQaLUApk+o2O5NXk+CBfaqI08yIonP+h+B5Eq6vplrhmeMv+kSnneRL8mIDLTqjgJ4hvZUh0\n",
              "S2oUHiSWHKFz0weifDneMn+mOaWJJy3mX8xYOqxcWmnAo+YHic/321vc4aE+NOas6xITyjJMwQl6\n",
              "HrWXDs3kr0xSzQ9DOukzsWJP0LU2KoRx4aFVkMg0HbnXt1pAMMNwra6iFS2IR3hliWN60L0PEfiP\n",
              "1GNkoLxNtpWSIoAPzzgRGPBY/CyQzVaUo5iMIJUwTIv2Qg4iOcOwlSQCm7m4UtuwhkBuNjrLHOHG\n",
              "ExTZnkP7kCWoFv6Fuk3B5jHgNY5zhD2g3sOdMpQtXCNiCgI8wbz7Gfye/j9tePd6BKomLFBYD4YA\n",
              "EsmHtMDa1FmLvsVBaKYeQssDJyeWgXcxCwfceC6yVel1pJRyLUkF+if/HHoTLQ+yc2WBtpvNbZzf\n",
              "GrXKOM3q1N7jg+tM0jMQrDvSYDJmx/abt80uFj01A+UQPcJIFbhbffkMCO3jD0/QRHrSAl/X3Sns\n",
              "bOfkTAmRsQvD/QLzmwtReF5rZjjLIzFyDs8S1RPwtjpFs0ekT8iqvdRNagKCRMcNJfmFj/35yWxe\n",
              "NoHXxsOofWtV8rq2n/RTvAhpvKKKnAc26dwJpNq2GSlDMt2sldYnaItncbH3uSA4Z8ac4jc8le9a\n",
              "RrjPjuJN7zO6FCS0MWmqohI62CP0m8UyGt/cguWuYPSnT3jTQMb84d56+qaT7ucP6mQcB2ZJIrZc\n",
              "Yrv8H/wdcP/BDq8oDGTSojjqX2xLNqWKd+cq6qMlKevIP7I91QI+osx2JXMmkk9RVaqQz/RoIMGq\n",
              "iVU80MZH7bga8pSRXzv4ngA8LKHKIqzSGjn+pJLOdDAXMBPdj+KEjyZR8PlLGo2ZzUrjdMB+kzzx\n",
              "R+tFhM9eRlX8pP9sn/udOrPpbjwQ0CZLpJ5H3rAKzQMWM4Kc1b/5JAjjEjnYsY5iox7Udc0qKvPC\n",
              "rbo2WIY3p1GC0Vd7w6kdru46FtnDxkVfYfQLgXfMPOg3fybKgDzBpQXrLViJjee6rep+wMq4mc3T\n",
              "9JRAJZw/ETMBHAqkq1lD5m/2UOMHWoPeH/zO9yfapVezp+Dq9EDxnxiixGZvcfv1RzQ6v3GdA25M\n",
              "Uxl1HDivt37F2ROSo5Gaun0ic7C/YcN+khL7JmZ3+AQOtzu3H2JckkZFF95okSp7n47mmc5goB7J\n",
              "e4+N6m2EcWUTohqpkbvLtIsZvsrKgNtHsflT8KjG2meLSURKhkBKQut7RUNgGHOrxZo+BFXhbI5Q\n",
              "G6zAe2JqjPY29Onmx+w2T9CozFQtDpmZEHn3LsxUWg3nibaLIB/E90xNCVVA4nFXeWi+97Dlu2wb\n",
              "nn76UwnZgI+hg6S9gc1NGmjDZtcxVYdLQ58fdd34fyIMvQlEf8cDEPa0LmMvnNdWc3+qvrtsi+Xt\n",
              "2KZcAWBMNZLRMvdrakCLZk2zjgRnAC+gOGuoSZyB1U2ehCGAlcNi/+mm/ZnwREtqPzf/YzvEftQl\n",
              "fEJTAuRsNwhYR/ngXE64ygiEDGH922eJ0ktdkEcI/rK7M+da5XVSFiwKRdRUDFOOgq7XoC9ta5oh\n",
              "ot+ExMftQiiuTA7MfGPAiNUM6nAez3mV5AA2iK19Vesq1tsRm67m3XxULba7nYKiuRBKzbTphuX+\n",
              "HYJfD8e8KSwVxN4pFc42yVv9j+b7Yxi6batBUCZZ0hagscQgFOR05D70VI6wlnzJ5FciARFjrngh\n",
              "TKeXWatDs9fzXTnuBzITCyJZfX6CHkd2f1lC1MJaXEEQNCrQ61j/sPPZw7oddEHPh6FJJJhvSa6w\n",
              "+B/OA7lvIcgABK4bYRmP2ciP/WAeakgI5UtnsGL8DcAj+70sFtdHkysZKoyDomrFzY3xaIH262PE\n",
              "HtFOnVoJ7bidQAD/AAAAUEGaJGxD//6pXf9rrGryqTZJLeLPIcCKzkds4JJFydpXRkFLK7oUABSk\n",
              "cU/Jompx5susIPtF+d6apjH/3VucIEjqqcQsZ7qewaJX6cqNv/MyAAAAEEGeQniGfwBNYsukoS67\n",
              "RMEAAAARAZ5hdEK/AI66GkOTLTwh/QwAAAANAZ5jakK/AAR3X903oQAAABVBmmhJqEFomUwId//+\n",
              "qZYAAAMA8IEAAAASQZ6GRREsM/8AAmuu8RmVCODZAAAADwGepXRCvwAEddDPoEzCMQAAAA8Bnqdq\n",
              "Qr8ABHdf36FFUbAAAAAVQZqsSahBbJlMCHf//qmWAAADAPCAAAAAEkGeykUVLDP/AAJrrvEaFxet\n",
              "oQAAAA8Bnul0Qr8ABHXQz6BMwjAAAAAPAZ7rakK/AAR3X9+hRVGwAAAAFEGa8EmoQWyZTAhv//6n\n",
              "hAAAAwHdAAAAEkGfDkUVLDP/AAJrrvEaFxetoQAAAA8Bny10Qr8ABHXQz6BMwjEAAAAPAZ8vakK/\n",
              "AAR3X9+hRVGwAAAAE0GbM0moQWyZTAhX//44QAAAHHAAAAASQZ9RRRUsL/8AA00RfjQ1S5GBAAAA\n",
              "DwGfcmpCvwAEd1/foUVRsAAABBZtb292AAAAbG12aGQAAAAAAAAAAAAAAAAAAAPoAAAD6AABAAAB\n",
              "AAAAAAAAAAAAAAAAAQAAAAAAAAAAAAAAAAAAAAEAAAAAAAAAAAAAAAAAAEAAAAAAAAAAAAAAAAAA\n",
              "AAAAAAAAAAAAAAAAAAAAAAACAAADQHRyYWsAAABcdGtoZAAAAAMAAAAAAAAAAAAAAAEAAAAAAAAD\n",
              "6AAAAAAAAAAAAAAAAAAAAAAAAQAAAAAAAAAAAAAAAAAAAAEAAAAAAAAAAAAAAAAAAEAAAAABsAAA\n",
              "ASAAAAAAACRlZHRzAAAAHGVsc3QAAAAAAAAAAQAAA+gAAAQAAAEAAAAAArhtZGlhAAAAIG1kaGQA\n",
              "AAAAAAAAAAAAAAAAACgAAAAoAFXEAAAAAAAtaGRscgAAAAAAAAAAdmlkZQAAAAAAAAAAAAAAAFZp\n",
              "ZGVvSGFuZGxlcgAAAAJjbWluZgAAABR2bWhkAAAAAQAAAAAAAAAAAAAAJGRpbmYAAAAcZHJlZgAA\n",
              "AAAAAAABAAAADHVybCAAAAABAAACI3N0YmwAAACzc3RzZAAAAAAAAAABAAAAo2F2YzEAAAAAAAAA\n",
              "AQAAAAAAAAAAAAAAAAAAAAABsAEgAEgAAABIAAAAAAAAAAEAAAAAAAAAAAAAAAAAAAAAAAAAAAAA\n",
              "AAAAAAAAAAAAAAAY//8AAAAxYXZjQwFkABX/4QAYZ2QAFazZQbCWhAAAAwAEAAADAKA8WLZYAQAG\n",
              "aOvjyyLAAAAAHHV1aWRraEDyXyRPxbo5pRvPAyPzAAAAAAAAABhzdHRzAAAAAAAAAAEAAAAUAAAC\n",
              "AAAAABRzdHNzAAAAAAAAAAEAAAABAAAAqGN0dHMAAAAAAAAAEwAAAAEAAAQAAAAAAQAACgAAAAAB\n",
              "AAAEAAAAAAEAAAAAAAAAAQAAAgAAAAABAAAKAAAAAAEAAAQAAAAAAQAAAAAAAAABAAACAAAAAAEA\n",
              "AAoAAAAAAQAABAAAAAABAAAAAAAAAAEAAAIAAAAAAQAACgAAAAABAAAEAAAAAAEAAAAAAAAAAQAA\n",
              "AgAAAAABAAAIAAAAAAIAAAIAAAAAHHN0c2MAAAAAAAAAAQAAAAEAAAAUAAAAAQAAAGRzdHN6AAAA\n",
              "AAAAAAAAAAAUAAAXQQAAAFQAAAAUAAAAFQAAABEAAAAZAAAAFgAAABMAAAATAAAAGQAAABYAAAAT\n",
              "AAAAEwAAABgAAAAWAAAAEwAAABMAAAAXAAAAFgAAABMAAAAUc3RjbwAAAAAAAAABAAAALAAAAGJ1\n",
              "ZHRhAAAAWm1ldGEAAAAAAAAAIWhkbHIAAAAAAAAAAG1kaXJhcHBsAAAAAAAAAAAAAAAALWlsc3QA\n",
              "AAAlqXRvbwAAAB1kYXRhAAAAAQAAAABMYXZmNTcuODMuMTAw\n",
              "\">\n",
              "  Your browser does not support the video tag.\n",
              "</video>"
            ],
            "text/plain": [
              "<IPython.core.display.HTML object>"
            ]
          },
          "metadata": {},
          "execution_count": 46
        }
      ]
    }
  ]
}