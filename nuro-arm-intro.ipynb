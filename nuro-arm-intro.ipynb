{
  "nbformat": 4,
  "nbformat_minor": 0,
  "metadata": {
    "colab": {
      "name": "nuro-arm.ipynb",
      "provenance": [],
      "collapsed_sections": [],
      "authorship_tag": "ABX9TyN296HQUHWl+wCocOaDPdV6",
      "include_colab_link": true
    },
    "kernelspec": {
      "name": "python3",
      "display_name": "Python 3"
    },
    "language_info": {
      "name": "python"
    }
  },
  "cells": [
    {
      "cell_type": "markdown",
      "metadata": {
        "id": "view-in-github",
        "colab_type": "text"
      },
      "source": [
        "<a href=\"https://colab.research.google.com/github/dmklee/nuro-arm/blob/main/nuro-arm-intro.ipynb\" target=\"_parent\"><img src=\"https://colab.research.google.com/assets/colab-badge.svg\" alt=\"Open In Colab\"/></a>"
      ]
    },
    {
      "cell_type": "markdown",
      "metadata": {
        "id": "ypuwjg60tveS"
      },
      "source": [
        "## Clone and install github repo\n"
      ]
    },
    {
      "cell_type": "code",
      "metadata": {
        "id": "2EODOPtzKN2x",
        "colab": {
          "base_uri": "https://localhost:8080/"
        },
        "outputId": "25f37548-99de-42af-cd23-d8f2174a9cf8"
      },
      "source": [
        "!git clone https://github.com/dmklee/nuro-arm.git\n",
        "!pip install nuro-arm/"
      ],
      "execution_count": 1,
      "outputs": [
        {
          "output_type": "stream",
          "text": [
            "Cloning into 'nuro-arm'...\n",
            "remote: Enumerating objects: 2162, done.\u001b[K\n",
            "remote: Counting objects: 100% (619/619), done.\u001b[K\n",
            "remote: Compressing objects: 100% (440/440), done.\u001b[K\n",
            "remote: Total 2162 (delta 377), reused 386 (delta 170), pack-reused 1543\u001b[K\n",
            "Receiving objects: 100% (2162/2162), 35.12 MiB | 19.61 MiB/s, done.\n",
            "Resolving deltas: 100% (1313/1313), done.\n",
            "Processing ./nuro-arm\n",
            "\u001b[33m  DEPRECATION: A future pip version will change local packages to be built in-place without first copying to a temporary directory. We recommend you use --use-feature=in-tree-build to test your packages with this new behavior before it becomes the default.\n",
            "   pip 21.3 will remove support for this functionality. You can find discussion regarding this at https://github.com/pypa/pip/issues/7555.\u001b[0m\n",
            "Requirement already satisfied: numpy in /usr/local/lib/python3.7/dist-packages (from nuro-arm==0.0.1) (1.19.5)\n",
            "Requirement already satisfied: opencv-contrib-python in /usr/local/lib/python3.7/dist-packages (from nuro-arm==0.0.1) (4.1.2.30)\n",
            "Collecting pybullet==3.1.7\n",
            "  Downloading pybullet-3.1.7.tar.gz (79.0 MB)\n",
            "\u001b[K     |████████████████████████████████| 79.0 MB 33 kB/s \n",
            "\u001b[?25hRequirement already satisfied: matplotlib in /usr/local/lib/python3.7/dist-packages (from nuro-arm==0.0.1) (3.2.2)\n",
            "Requirement already satisfied: sklearn in /usr/local/lib/python3.7/dist-packages (from nuro-arm==0.0.1) (0.0)\n",
            "Requirement already satisfied: scipy in /usr/local/lib/python3.7/dist-packages (from nuro-arm==0.0.1) (1.4.1)\n",
            "Requirement already satisfied: gym in /usr/local/lib/python3.7/dist-packages (from nuro-arm==0.0.1) (0.17.3)\n",
            "Collecting easyhid\n",
            "  Downloading easyhid-0.0.10.tar.gz (5.0 kB)\n",
            "Requirement already satisfied: cffi in /usr/local/lib/python3.7/dist-packages (from easyhid->nuro-arm==0.0.1) (1.14.6)\n",
            "Requirement already satisfied: pycparser in /usr/local/lib/python3.7/dist-packages (from cffi->easyhid->nuro-arm==0.0.1) (2.20)\n",
            "Requirement already satisfied: pyglet<=1.5.0,>=1.4.0 in /usr/local/lib/python3.7/dist-packages (from gym->nuro-arm==0.0.1) (1.5.0)\n",
            "Requirement already satisfied: cloudpickle<1.7.0,>=1.2.0 in /usr/local/lib/python3.7/dist-packages (from gym->nuro-arm==0.0.1) (1.3.0)\n",
            "Requirement already satisfied: future in /usr/local/lib/python3.7/dist-packages (from pyglet<=1.5.0,>=1.4.0->gym->nuro-arm==0.0.1) (0.16.0)\n",
            "Requirement already satisfied: kiwisolver>=1.0.1 in /usr/local/lib/python3.7/dist-packages (from matplotlib->nuro-arm==0.0.1) (1.3.1)\n",
            "Requirement already satisfied: pyparsing!=2.0.4,!=2.1.2,!=2.1.6,>=2.0.1 in /usr/local/lib/python3.7/dist-packages (from matplotlib->nuro-arm==0.0.1) (2.4.7)\n",
            "Requirement already satisfied: cycler>=0.10 in /usr/local/lib/python3.7/dist-packages (from matplotlib->nuro-arm==0.0.1) (0.10.0)\n",
            "Requirement already satisfied: python-dateutil>=2.1 in /usr/local/lib/python3.7/dist-packages (from matplotlib->nuro-arm==0.0.1) (2.8.2)\n",
            "Requirement already satisfied: six in /usr/local/lib/python3.7/dist-packages (from cycler>=0.10->matplotlib->nuro-arm==0.0.1) (1.15.0)\n",
            "Requirement already satisfied: scikit-learn in /usr/local/lib/python3.7/dist-packages (from sklearn->nuro-arm==0.0.1) (0.22.2.post1)\n",
            "Requirement already satisfied: joblib>=0.11 in /usr/local/lib/python3.7/dist-packages (from scikit-learn->sklearn->nuro-arm==0.0.1) (1.0.1)\n",
            "Building wheels for collected packages: nuro-arm, pybullet, easyhid\n",
            "  Building wheel for nuro-arm (setup.py) ... \u001b[?25l\u001b[?25hdone\n",
            "  Created wheel for nuro-arm: filename=nuro_arm-0.0.1-py3-none-any.whl size=3863148 sha256=f54a3c5eb44ac6acb5ceeff49361cd5e223d02c34c88acc77dd257287f077e4b\n",
            "  Stored in directory: /root/.cache/pip/wheels/10/03/f4/741a634e94648d97b14be760853bd353ef7beb7f96ccbb8578\n",
            "  Building wheel for pybullet (setup.py) ... \u001b[?25l\u001b[?25hdone\n",
            "  Created wheel for pybullet: filename=pybullet-3.1.7-cp37-cp37m-linux_x86_64.whl size=89751110 sha256=1b5cc4b9a0613c9c6a1d87d65fcdd4d5914149eb5f7e6c0c428e17a671d2412b\n",
            "  Stored in directory: /root/.cache/pip/wheels/70/1c/62/86c8b68885c24123d87c5392d6678aa2b68a1796c8113e1aa6\n",
            "  Building wheel for easyhid (setup.py) ... \u001b[?25l\u001b[?25hdone\n",
            "  Created wheel for easyhid: filename=easyhid-0.0.10-py3-none-any.whl size=5574 sha256=1eb0fb6a7a75115d6bd8502a1e22dd54c68ca21b386e99cd73ebefa4539f0361\n",
            "  Stored in directory: /root/.cache/pip/wheels/69/4b/32/e705c37967a4d9c004255ffb8b2c64674a6fb3019785d1adc7\n",
            "Successfully built nuro-arm pybullet easyhid\n",
            "Installing collected packages: pybullet, easyhid, nuro-arm\n",
            "Successfully installed easyhid-0.0.10 nuro-arm-0.0.1 pybullet-3.1.7\n"
          ],
          "name": "stdout"
        }
      ]
    },
    {
      "cell_type": "markdown",
      "metadata": {
        "id": "PmkeNpfKK4DI"
      },
      "source": [
        "### Helper functions for visualization"
      ]
    },
    {
      "cell_type": "code",
      "metadata": {
        "id": "MjooXRc5K3ou"
      },
      "source": [
        "import matplotlib.pyplot as plt\n",
        "import numpy as np\n",
        "from matplotlib import animation\n",
        "from IPython.display import HTML\n",
        "\n",
        "def show_video(video):\n",
        "  fig = plt.figure()\n",
        "  im = plt.imshow(video[0])\n",
        "  plt.axis('off')\n",
        "  plt.tight_layout(pad=0)\n",
        "  plt.close()\n",
        "\n",
        "  def animate(i):\n",
        "    im.set_data(video[i])\n",
        "\n",
        "  anim = animation.FuncAnimation(fig, animate, frames=len(video), interval=50)\n",
        "  return HTML(anim.to_html5_video())\n",
        "\n",
        "def show_image(image):\n",
        "  fig = plt.figure()\n",
        "  im = plt.imshow(image)\n",
        "  plt.axis('off')\n",
        "  plt.tight_layout(pad=0)\n",
        "\n",
        "# pose matrix for camera that looks upon scene from side\n",
        "side_view_pose_mtx = np.array([[-0.866, 0.3214,-0.3830, 0.3264],\n",
        "                               [-0.5, -0.5567, 0.663, -0.351],\n",
        "                               [-0, -0.766, -0.6428, 0.514],\n",
        "                               [0, 0, 0, 1]])"
      ],
      "execution_count": 2,
      "outputs": []
    },
    {
      "cell_type": "markdown",
      "metadata": {
        "id": "atyDdJmCuA9t"
      },
      "source": [
        "# Create simulated robot"
      ]
    },
    {
      "cell_type": "code",
      "metadata": {
        "id": "SKS3BPTNx6T8"
      },
      "source": [
        "import pybullet\n",
        "pybullet.disconnect()"
      ],
      "execution_count": 42,
      "outputs": []
    },
    {
      "cell_type": "code",
      "metadata": {
        "id": "6KKmBodpcE6A"
      },
      "source": [
        "from nuro_arm import RobotArm, Camera, Cube\n",
        "\n",
        "robot = RobotArm('sim')\n",
        "side_view_camera = Camera('sim', pose_mtx=side_view_pose_mtx)\n",
        "camera = Camera('sim')\n",
        "\n",
        "cube_size = 0.03\n",
        "cube = Cube(pos=[0.15, 0.005, cube_size/2], size=cube_size, tag_id=0)"
      ],
      "execution_count": 43,
      "outputs": []
    },
    {
      "cell_type": "code",
      "metadata": {
        "id": "vVc8GsAOgWMH",
        "colab": {
          "base_uri": "https://localhost:8080/",
          "height": 319
        },
        "outputId": "ff9e5fd4-df54-4678-c3e0-a490cf831ed2"
      },
      "source": [
        "# visualize the scene\n",
        "image = side_view_camera.get_image()\n",
        "show_image(image)"
      ],
      "execution_count": 44,
      "outputs": [
        {
          "output_type": "display_data",
          "data": {
            "image/png": "[encoded data removed]",
            "text/plain": [
              "<Figure size 432x288 with 1 Axes>"
            ]
          },
          "metadata": {
            "needs_background": "light"
          }
        }
      ]
    },
    {
      "cell_type": "code",
      "metadata": {
        "colab": {
          "base_uri": "https://localhost:8080/",
          "height": 319
        },
        "id": "vPtjkG1u5RJ2",
        "outputId": "66aedb12-46d4-4eec-ba2a-90dc614a3a24"
      },
      "source": [
        "# detect cube with aruco tag\n",
        "detected_cube = camera.find_cubes(cube_size=cube_size, tag_size=0.75*cube_size)[0]\n",
        "\n",
        "# show image with cube vertices highlighted\n",
        "image = camera.get_image()\n",
        "show_image(image)\n",
        "pixel_vertices = camera.project_world_points(detected_cube.vertices)\n",
        "for v in pixel_vertices:\n",
        "  plt.plot(*v, 'r.')"
      ],
      "execution_count": 45,
      "outputs": [
        {
          "output_type": "display_data",
          "data": {
            "image/png": "[encoded data removed]",
            "text/plain": [
              "<Figure size 432x288 with 1 Axes>"
            ]
          },
          "metadata": {
            "needs_background": "light"
          }
        }
      ]
    },
    {
      "cell_type": "code",
      "metadata": {
        "id": "k6VPsLpQ8m-A"
      },
      "source": [
        "# picking up the cube\n",
        "side_view_camera.start_recording(1)\n",
        "\n",
        "robot.open_gripper()\n",
        "robot.move_hand_to( detected_cube.pos )\n",
        "# robot.move_hand_to( cube.get_position() )\n",
        "robot.close_gripper()\n",
        "robot.home()\n",
        "\n",
        "video = side_view_camera.wait_for_recording()"
      ],
      "execution_count": 46,
      "outputs": []
    },
    {
      "cell_type": "code",
      "metadata": {
        "colab": {
          "base_uri": "https://localhost:8080/",
          "height": 309
        },
        "id": "i0_-WoQF95pw",
        "outputId": "a94fda1d-7af1-41b1-d9ec-857065e026b7"
      },
      "source": [
        "show_video(video)"
      ],
      "execution_count": 47,
      "outputs": [
        {
          "output_type": "execute_result",
          "data": {
            "text/html": [
              "<video width=\"432\" height=\"288\" controls autoplay loop>\n",
              "  <source type=\"video/mp4\" src=\"data:video/mp4;base64,AAAAHGZ0eXBNNFYgAAACAGlzb21pc28yYXZjMQAAAAhmcmVlAAA7d21kYXQAAAKuBgX//6rcRem9\n",
              "5tlIt5Ys2CDZI+7veDI2NCAtIGNvcmUgMTUyIHIyODU0IGU5YTU5MDMgLSBILjI2NC9NUEVHLTQg\n",
              "QVZDIGNvZGVjIC0gQ29weWxlZnQgMjAwMy0yMDE3IC0gaHR0cDovL3d3dy52aWRlb2xhbi5vcmcv\n",
              "eDI2NC5odG1sIC0gb3B0aW9uczogY2FiYWM9MSByZWY9MyBkZWJsb2NrPTE6MDowIGFuYWx5c2U9\n",
              "MHgzOjB4MTEzIG1lPWhleCBzdWJtZT03IHBzeT0xIHBzeV9yZD0xLjAwOjAuMDAgbWl4ZWRfcmVm\n",
              "PTEgbWVfcmFuZ2U9MTYgY2hyb21hX21lPTEgdHJlbGxpcz0xIDh4OGRjdD0xIGNxbT0wIGRlYWR6\n",
              "b25lPTIxLDExIGZhc3RfcHNraXA9MSBjaHJvbWFfcXBfb2Zmc2V0PS0yIHRocmVhZHM9MyBsb29r\n",
              "YWhlYWRfdGhyZWFkcz0xIHNsaWNlZF90aHJlYWRzPTAgbnI9MCBkZWNpbWF0ZT0xIGludGVybGFj\n",
              "ZWQ9MCBibHVyYXlfY29tcGF0PTAgY29uc3RyYWluZWRfaW50cmE9MCBiZnJhbWVzPTMgYl9weXJh\n",
              "bWlkPTIgYl9hZGFwdD0xIGJfYmlhcz0wIGRpcmVjdD0xIHdlaWdodGI9MSBvcGVuX2dvcD0wIHdl\n",
              "aWdodHA9MiBrZXlpbnQ9MjUwIGtleWludF9taW49MjAgc2NlbmVjdXQ9NDAgaW50cmFfcmVmcmVz\n",
              "aD0wIHJjX2xvb2thaGVhZD00MCByYz1jcmYgbWJ0cmVlPTEgY3JmPTIzLjAgcWNvbXA9MC42MCBx\n",
              "cG1pbj0wIHFwbWF4PTY5IHFwc3RlcD00IGlwX3JhdGlvPTEuNDAgYXE9MToxLjAwAIAAABHNZYiE\n",
              "ADv//vdOvwKbRYV+fDF+yoBrLVfvSNAfKfGmBJYzVxRr2F9uynpFhREu9ojixwDXklzVdCxKgSKd\n",
              "aEMrp1L4nex9Tb5TbtjvrbGQPAtVon2Q+/HePXtIrPAMJQpItim8RkpL+htn4DBsPwYP5msQX14B\n",
              "L3hhKtIpU7ruU9MBid9kXipqxP4zf+l75gq631swyvOj4PqUETxZSYBlU61/C1ojEbylNLcHfwnA\n",
              "tWMTYEt7rd6XHnSp9Psyptq1jI5S8uRZCYx6UxKckDy7mIX9f8Bvybeq4JgeAnWDmJrYS3t3HLly\n",
              "Mo0NWYdFdsb0rNK09/VvoELTLvURNY2w98uXCnwejWytQgdKRhcd0eUBK60WdBSgLM1j6jLxBJjb\n",
              "mgNvq5PD3uL8co6Ght9HOJkV9y+4zITUtsNvY3AycDrnp76Yi8tOVWrYPfgR5eKIIR/Jla0lQPSB\n",
              "AvJuf5QH8A1NjX2irk/IH08kvQsRXl8GB9Gx2kDhRBZzBto7zW4MNjVsGmjooP6Q63RORExelpMx\n",
              "CNTm7vwna+Q/02VkAfbCiqiuApEkqRpiK2EVkqoWtCf+kFNPhsMWIpb/rZIKzlpnaNdGCeOSEDiQ\n",
              "3f192QKdgG3qk4aLPnC86XeoCKAXwYVLPcTwyzkp1dfMez6CcDCoK+UZ2monnS3uLGHxN05K6zoX\n",
              "dTOZ+/N8cjVIHxCZ4J61BPKdoWvUfPyRkdEUrLPW2JWLbsoply6AQxiumdymA6nMJuKtEDMghSUl\n",
              "SsBRon6r6d6OJUT3T+P3nuAJkJ6xVw7PBQAWJeWSW5q+LyHQtqo0RdpUmA8IqHSzTNT0rTV11N8b\n",
              "lAyh9H1EBV7Wy13uA2AuXIkAX9++k9gdMOz/rYpIbcHL7Ab1AQkeZWxBUC7mf4jj+IWc5fCMjb0T\n",
              "Y3wHUdU5I5qDhbchv+2Rigm2fF1tJDm4a6NNLkvQR7zQqGdlKsxcnqpwgGvAOjRA2+he0GLFl8v/\n",
              "lkWp6YKXZGC7ohhUZIOzz+6O0kpSygF/LEkQy/tKC+Ju8jX3mJjMytwE/dsP4fJME0ySwqNjdNNa\n",
              "UnmmqFsqx/C5YPZOOCapohW4J81+bXb7ZiaqeMSb51IXUqBKl1+kAJah0xe6EL6aRMT2tGWRsxZB\n",
              "Jt9/YAUS+tXv6SX+wLydpk4rf+Lo+lg65nL9jR9CBPD42uEIajoFJMdAF/9XaPnhjPYc0YYMUtn7\n",
              "HqPlI8JlZDAao9dp8+pOBXS5E90uIVAhpFcR/GUN7lqF396Ztl4W6b8vJ8ujrDU55cHBeXvb1tF5\n",
              "7kyXsR1AGIuaaMtMnrzOpv/95FfmuIDXxyr1uXiwa2mBEF02grQpZ2OXoi9kvLHBfx/oHZ4Rk6nF\n",
              "Gz2z1cZc96L52L0s1NWlcG9VDo5xqtovz368hDqua8tE/do3Rx7AzQGOE4T4ab79BjN1BAYXWSd9\n",
              "pM9J321hYEJUafpNXblDLq4ixb2gvOvC/ERImM2+XnKYe2YYgAGMktIOljXO9gQ1FYjq4jd1W+jQ\n",
              "lkbxdejbAC/rW43DrH/fx3t5Cg6KZIhfj3IOVoHJriqv+NYc/oUUgfex6/J0I4BgeU8aBuiw2qXY\n",
              "P/uwNlG+GG+Tme5RAToyBBjUqnzQcGyGdqUSynluMBsfOb+EPcQ2ZmMjryBycLVKduFQCMjvNmlP\n",
              "2WDG/a+HWzG8jhDnua0faQ/Gva0uA0VSv4NPbiCMdbvBN/0h2WNaW2hWHX556AQBUp/C7FBJ6Yld\n",
              "sRlhdDDIXKM6kxFY9+wIa8GXRpgF+0d6Rk5+4SzMIwZ8T/qI3PwpySCrn3UBHPwHlFkBJDxlY+31\n",
              "W2TdXfYUByjdgrK5HjkT2R66js7886u2I5dvG0wQGvD48yShbnAnRPMx5S6rZJtItole0MAeKqD5\n",
              "3ynso2as8LubSkIJN7x+/47Mm/css/FjMOm0Kq0+xrdz9s5LH4yJj/1/5U53ldBrWubVlqvz8jOH\n",
              "GlZ/n1zkZi3FJCIUGL0hhIaX4SVpmUp0kO3o5HXIE8Po+TFOES6PsqiqIBUY9B5DYK3CfZJQXNT+\n",
              "jVOL2Li7fcG5xA67eERvNBx/x4QdVQ/F/zC4Q/agwP182hEeQIotLcuIHBFF6TtBZqeRIm3P3PXO\n",
              "j1jfMB+bmHthin/l/kyXPFIZubNTmPoVT7VfBFdiuXf2MRexGpOdEDgSvQGmrZG7fG2YrvSnrgF3\n",
              "XblOgwz3H0zjlGfeXmQHfGjGaS21ugl8uUHFKrSOikEI62QVhxXuo9wj3x9u7t0+STyaXyo4ydoe\n",
              "/+bqcr3Mnx6SMCb6GvMe4tbHniD8K7e1UNQLSeSxt8sy/Wot4SG1yBFNxmiY97FworaqptE9uGPr\n",
              "bskVKBFS3ipbUPwSBlgo9RIaX+o9lI8lVIFM0Snli141qZ30e9W0by/ssYR9Oi/bBfvples3fAzR\n",
              "OtaL1RKt7++Zjj/TQnQXGgvK9dUPTucvuHHvPSNFWcQgKLkJ1AjLaR4zzuoqDK4fe91/N50wzxxV\n",
              "kGi4JoUIoesnfa3h0p2ZZRHOyiMXQdQ7If3zHBhE7/xBF1CfaMtDNezKqAKwmP52fuw1lQNdhoHa\n",
              "NbqbU8STyR9L8RF52j1YIhkG22i4YlgmZd84ys7Na69W/lZmqVwrPi55d63eE8Dd1fxW8PO/601l\n",
              "XQCCImRkIzkcXnx9MiHJ8WZTf1lVhLtq6uYthRTldtZOyeTcRSwdfIyBDc5slLegqjozZXAPMoth\n",
              "m0ROiPbNiCE6A3CB+QSh/hwmprWczTcPTy6T4OZN2Uby9UXWxphBMi+Ug2R+52Z42iIHcBTxNAKJ\n",
              "FoztU0kkbEYUW9fMRev0YpgSsq+G74M4a1Lr+k3/bLLZtFZX94+mgEHdUMc0FvOjZMN2ZLwDX8EH\n",
              "ntxcebzzOr2kp0sstTDNG0+JlBeXk0TluQXSBfh7tZ9V1j/hkezBdn4ToXYNLeh/3aNMKJSH3tF+\n",
              "J+ZOsc/0xF4vwIsN19dEHv5xFHJYHhbAnNgjCQHA5rmsWhOE+izNPwXdCSr9xc8BAJgfa+ql65Rx\n",
              "0tnXWKpx6K53+Doo92leIGyeM+4Sg8vhCaz5ZG8DTaN3pIU8OjRxvydGrtbqh9k9urHsAQG29K9w\n",
              "cChBAWVu/Zg64eyGL2Bxvpua7Q1JTldrM/U2C/AvHPHXNZrYsREws3YTszKiS1xtj5bw2uPS9L8x\n",
              "jdZ8eQFbBIBtA6B3fyVQPc1LLgeTfj7KOkPCieq9+bGA6Jmnrr4dcYnFBHMVNIDQ2UexOGkRW/c3\n",
              "BiaiNVJqt+QyHz7Ak2q9oQk07qnVa7zahEZiB6PgQTZu/qlEy4VFp6H6e5viFdIyaTM+XDA/2kam\n",
              "KHXoFT38t3E0Y3P7YxLJx/MMOUhiAPmcSfi5fQW7Tr61P77VszcswDM9FHt3XAF5e9JNWtPmYbpQ\n",
              "C5ksyA/z8pK6yheRM1g9m4p6FM58B/csM3wesUbZ4MlotKMvuuVRkFVNhvNApRk19qWUVFsN6pit\n",
              "TcvhiYmD1rzyFEKaCuNvJ8WqRk4FbgBZ1BdBQ1ygFhLEGg5p0CBlyKLuGkdpHxNO929Gssu2PNvL\n",
              "z0HFmbyhKtOL/wekkrvoHXuyQYbTL5US7BoUhRlRSTqpu9TeXxMOqpSIMJfKAfSU6xqihuX7UTey\n",
              "YT9+qBcGudITW4ecApmOtdYtJx8pdr0VM5w7fNIIjsu2BMA63H10a8FoZWeF4+q54phkvR4GzKOx\n",
              "5pTp9idmDI6Hm9R+wsELCmVCnrUxsoGga7RE0zto8LDZ2kzPY+gMLqaWpD4H2zAaHNwNs9NiJkpx\n",
              "Jpo87hRuddkFBM+F8Vfgf3vtakMMwuFXq2sevRMKrCPzt/Y/Smtb7+19ak32koReLpQ3FGqRT5ie\n",
              "5A5ao1Tad9ZZb2eAqLZ9mkaSVoPwpL/X4RyGNUloPf6/7wwthxh9ep0IxALLKsvGfyf4+LFFR5bC\n",
              "Kpd2c+f1D0XNLyxlp2Iv9sVKrnmQ7tnExLv5uwiAEXWAd9Te/oHLwWb5lCeNZ99Tk+yZn/aEuLA9\n",
              "/PImCGkIEhNkiyKllvFcfJu2mXJpH0wYGw0b3XgJfgrtY90K1SFtWyzwOgkhXzlHR/oKJgciR4MK\n",
              "i+06iGAV2j8XyS4rjR0r03nPJYC8dha6BMoaWoEZ6iuL87jRlDxkzZOQqdVX6uNkhf5RPLVBk3vL\n",
              "bDcJgO5rwFHHzzPQ4VUiLxzuopUoZuF56lGLn+kF5PMH7eKFILK6GxeR+nkL+/rkkHbVw4HxDfwA\n",
              "ORDJbU/os/xYCdiAPeEsldrx8WkYXAjfhE7AhO2gDj32VJ6A21HZSL2G1LjaLNzTa+PH4O/UJQF/\n",
              "izjf3JiwSEBA6sg+fkVyl0xIeujJttM/e3PtylMDlWTWn93Ngv9eghLoxmavJBcVLzWTGxUgwcSG\n",
              "phgx4DVn0oJF5gPpEUlroJSzbUABL8dCKra/3pXyFHwQlJsSLe8bplAeoiYGSAn6ReyKGPyLhmyx\n",
              "TaSCDGi3ShVD/gY7TiP3MYSvctX94DnWaHAHvh20wkqsM7iOzUMKzP0gb7/y+ObU/sjrioucScCx\n",
              "aKlqkAAAI94hXKkqXW/u69+W5XKkxyrQxzz5xGFuIWD7uVHD3Shg7059BZ2tJMLzOqeRekJ+UE3v\n",
              "PK7CAjqZmwdNIdLPzLCLG4O3htwBNENH+sxzi1NIEQqYOKhigIDdOMp4ZKmQnVxdOnZDRkT//8I+\n",
              "wfEvdpn8OUFyi2xUXkPo4EXdYuiaOPJUFrJREOXe5/VygDW0JVq8RUORBpa9YhNwrrIZiP52lOrH\n",
              "qmie0UQktdMeb/tzRnbexmF5zsrwfbfrsaVvggazC8SdE3Q8pzbtYAlWO8yBnGYndVBNJD6RvUQh\n",
              "x0os6+Do0xfDbIStpIOUc/8YSKIydi+5CeYMUVgdmIiNNpv2DDeyQV81Vj1uBNhWOYcd4s/zIq6i\n",
              "/iQUQDuUn2rQP9fTHZsFHghWwmgsWlqntPZAdTW7o4KAcKPdS/W/kFU0JnnQ6VOPmoxvlbgvWWzW\n",
              "aCmjXSeTgmrnfmdleiL/nWGvN1c66xeNDnQDozq9+bU79WkPvY2Q45zDgrcDCptAoXNCiCC9YB+U\n",
              "SCnO+8UVND9NPN/Bn0uT/HV/OlIh9lhY+PUtrBT0ZKn2mVfzSXGqK+3opV7WzYHnlGtJcQlCXcBA\n",
              "94/9i97WEarvjMtJqn3MVUFS9pHK+e78jL7f/AsleBmRaREtvAjdyaFNxEZEIrdZdoOPCzH68QFW\n",
              "tg4lUANnfnLKkmTVwNLrTELNP8UyhZ/vJXzBdGB8DoxQ1YQiVBviuHeeEtObvYAAB+RMo1junGnL\n",
              "f6URixx+wv+m2adgeiyeooVidRxeBdW/+hHYrxmK+YwaI9OGkW0n0jzvpLvNsDhsjD5/4/eVA+2E\n",
              "pKNDHcUqAOw7ovFaSCCc8gFAEfQs7pWr++28jdPSvoOgjRlZUsR8jkcnH5KbhvL7L/oGhy0og7eA\n",
              "NLpuRs6Ajx8wq162F8hOOPGaDBUEcI6XYu1Dheuxq1w9kuGv6ITEF+QKSUqSL8MX2QRWsAG0pN4W\n",
              "w+z4JdQcWm/NqccOHQgdvECIdacnhMLYGCbhjy5SS91bBResOyBR0dFtIf8Q4g9iNFYNF5dNX4u8\n",
              "bHTHJHoP3ZF5tlVzK4ugwTrjlUjVkz82JQ16cK0vXEnTZgGFHPctaXNZAt7PQhqj7VGoNVpVtIk/\n",
              "tMmkF9MQAiSqaFvPPtq41RXLtitzVaS7yc9zVO6zd6SMvQDYEcMAA/zRNjDLO5EaNTQ8cRYBEeuQ\n",
              "1Om2w3Fwr8QLjjQweQif9xG2TWJjPZy32vW7nSAfKUDvAukFSCJFQ2HK4O7d+F5LGQxVfwXQ1XkT\n",
              "tHplsPz5uuZscriB856EKhihqROoJHEbLVCfDyL5sb1AisYA7RZ4W5PuVV0YG+mE2cOOUr1w5Tf9\n",
              "nmY/LiuXFMU6TsAq72E3rFwcQFdpYzZB8TbSS0AJWsqV0TYRvCwPfIxJrcfiDPxTSdtryAEb1lib\n",
              "y7jJNLGrRt08Yo6h7lbwx6D8P9zetxdOUct+IKs7Tevzngr3nmy+Gx9zE1sdGCknxAi5AAAEGkGa\n",
              "ImxDv/6doMSkJDIIejSaLHg5aZNALPMwa2jDh+gYDYg6nKUfVnQfeY2jNxPMHK68CmWaEz/4r4vf\n",
              "3u2brvGJIH6hTOWqYLt1aAYUyidPnCN5Nc046+YWWdQn+l2/TwRdizsasGLXXxGazyrOz4uy2E38\n",
              "+/mbWandQVp930dmxUmqC5OUMtSNA/IMPPnXQm364KNpZB0V4+m98TvTiLIIDCsgKDzfjQQvNtSc\n",
              "kqqS8F+Sk6TLtYgTt94dMNJfs1+Nt3N4LqDBK8Cix+NY65I9Gz+kj8SLsCcKccYVp3MGzfa8/gBL\n",
              "ZDKq9o3/RSlZhtP5EYzW1C1VrO8VigmHe/VBOCFwnkyFXOkZBJo94toqE8hDfVHRqOm49UBwSEnh\n",
              "Uo67uQanQ+bbL+RRJ932zIk0+Ct5iGyETe60pBrvW7pfWQsZwljxLZCQxA7s8/2UxU/AyCjqe12z\n",
              "LuQ/kq8eAbaK+plhPArQGYL0dprHTg1nvFDzUXYU+2kQxyf6fumj1RadhCxW/wnpoZ2QHBicM24h\n",
              "GhFf0VfGDwvQzJ3mp03MkoG/iR5Nohh4rCS0JGzVAdZrxgIlFiu4x5nXbj287GKxSgXYMfbkAO3d\n",
              "CvXmXm/QV10nsGdf5GUyglEWV6uex5WufGDk5ycf2L5tVqle223ylfF1whkyD+LNDyyXjVbTWSYF\n",
              "4q6PzZd553mSFCZAih4Si4Je6Y5Ua3JHkyaKAMmvwFsf7io8xxGX+rYg9r52I8TUrUEVRN2E5BfG\n",
              "GJy26iThgkFgWnRFBh7bxZJtqJGNexBiGYtnGUeFkaGyhhy42fjoyeuVqzh+tPMRHfaH8HMBO8cf\n",
              "3/zhbfxZWm3Vtir2lI4BlJHe7TSI7HXjZ2ZO2K7wtSznKwfuAL4NPe1mDrgmqmSusaob2H0XNrTA\n",
              "kLA+KxvhPBXxJK6yoVUEpCn2jGKODOfZQawwFndlMBg7kVHPIO6KjimSNbA7hrbFEwx71Bsmqi/r\n",
              "faqowofm6yrQCeyoG8ACq51IpPTfjzuUCQN1P1nuKe2+YQuLGZgmvke4hKqsOfSMP5AyCUotdOw0\n",
              "u5tQsOCZWLKuDmsnv//lT/721hHfcopfxD43hJjHP94S5/8FcT/ccX6YoEohXHN05qfAJ0eh0OCD\n",
              "YTraHvTEt88QyEZaREG89xxFnO2qw9ryBsX4nULa/PzH5bOHJxz9jTJeJpqLsF5+3HiFeGqnhGJV\n",
              "6MSc8QmUelH/rgKnFpMfA51GV4HGtBpsSDZ/EQcdMstRtMzZEPpNChz+vMgKYXkQjl0QuvkncCY3\n",
              "hNjaD3XCoHfuH97KXJ24zIWrODGdW1hAMnBYEwzJm6XbPkcvY+Id+cVE9zLdz3Hg2yoVqfcmmCRF\n",
              "AouT7HWUUO4Hy7NwKNdIV3bpo3xUwAAAAQQBnkF5Cv84jO2m0qDUqRgAmmsWebL3mPJ8snnRjXzE\n",
              "Pd0ZNaCSOU+DFFVJPWLt6h4A7CzSjEkfp4CAl+2/QhIpgXhwcqBg9P+9d6LkLKIwqEr1BtmJpEvF\n",
              "i2CEowEzkGrFTk1wQjeUzv/+Q/ByBsMkFvraroLE+RfoXkDClCU5OdmMggZsl0wPkLkD994EZvfJ\n",
              "wNb/gG6TxexGXdlSFr5drWv5vHibm5j662l2+d2p+02G3Uqbaf2Eurk5hWds0pwxL+cousK9EdIy\n",
              "Atk+0dyi1585bIB0QVK76Ohh31pc506luU1z67ic+rTgURQFXGY5nPHWtubNMGlJZgS5tw944vCD\n",
              "0wAAA4pBmkM8IZMphDv//qmWAFL+AcbiTRIVBwAGzJk7vkYfFrOUm9PmmiaGMrVp57hsSuVQI089\n",
              "MxV9hKgHDcKuLR8uK3MOO1I7AKT/odzXPGXT42AP3j8h9T7ry9V40llC3LKJu0+vVU3PbOhwI9Ah\n",
              "k+Q4Ng+aQRPUMratpClK/xQfwpvxbmTJv6c8qWcMjdS3dJNlStgNp/w8T5FS1JxkLLS0uDqU1uvk\n",
              "PsslqsGcFO9IheaNgVanXrFAPicaP5B/Jc5rY2rk8Nf5MqkjMZC8fwCOXVhXuqOaO02mDuoiEwHq\n",
              "aZ2YJ6P8+WVBd7Kgmn51XXf6czXkyy/eu1yan6oCqYGnADuLl2pP8WhoNl/3on2uPQr7OHMn9NMZ\n",
              "G26mLne7aSq/yGTPasiULdAxHSgSb6gv7vMcfQjo6tqcFmOLC77UzZSmOOW1LNma4bSEQqbZBPK5\n",
              "8lguBMZHcj1Yk07eM6oU4Hi5KHYj5R6lWggb+ig+RJrTlupfWTVwYW4/aKVqqUyJR39JerLWMjoa\n",
              "Gai2Oj0xMcbzZeKt2xbRf7RnIQHrQVWZHySZ8MzuplsfG+AxQn5X32/5hfLeipGtiYDtS1OKiZaP\n",
              "eUUWU8XH9wi7t+Zl9oTLIK/B/oibgPL+QbGOzo8LK0APQLYi/6qtRvWbmMT5F6wHY7RxyZFzjmI9\n",
              "RYR3UMPzpw6CTGSFd8UiLhXxuPF5RtMqWAUYBKp+RYTmbU6/28Ft9QC3piwmtRu9gwoTLSSqz0LR\n",
              "VTm5KCcZHoGGDuTrORFwolmEfISgSVq1NlvRG5LRPtOVBa7HvK8wdlXBdJwMGj+rlz6PCYhDKkOA\n",
              "JedPMroEmAfLmvVhzwIjWWVhSnkNdTwfoCPcjwQYjknS3kbq4B0phNhJ1TCA64KvQhpY25UoaIW2\n",
              "Qw1tHzn/p+vQjpeI/ig2taWSBNTUHMe3qAq4a+oQovsasoaE8fSgn8m5/VbtQC9ueuWjdLzGOK+j\n",
              "vEJ66gP78+ZZ4TZwuICiu/Jt7HeVgfWK926F8SRZP/AXrmC/qRgnNoNO98YigbN5YSMivrby1GWk\n",
              "Ul3pH0dUOK0GXdxvasT9d+2Xe1iInrd9IGmyj1wrTuxQx6t44fHffUazplh5+1vSyM5tppr+56hA\n",
              "0YZuygjpFPfdL5bJ9/MWvzS7c8m+J8BlQhuaFwROMF2cGUPKGOW+DxISwB/635EhuvwEqoDu9FwA\n",
              "AAN4QZpnSeEPJlMCHf/+qZYABgJRuABfq9U5D3IXXIK2J0yIPjr43+NAVPFVWOJgTtzrmYNCyTcm\n",
              "8s9N9XlCGi26OnoB87cdTHSPeiw9658rrQcoo4+Egw5E8r6yYSkOvi29rdCRrqp/65f5Ruz+3u5S\n",
              "dqdCVw7i82Fy5hJ2RmOMpH07+gZW9wXgaJDSitUd/EcLM+IRrDl7gHTFExgqIBhyadZlUyPRlqit\n",
              "1iShSwgFrbY3/Vo2dKCOtZz9jkgNOUS19Dcm1l3ZaJ15AzwecACmxaYpLlxUVC9nYvJW/Cu/jWtd\n",
              "pRxhnRUsCSzESyACPAWeh3KIvhJmEPp0XFW+G3Db6P4q/0y/uiri7CdJ8eDmN7n//bz4A8+djfN5\n",
              "iDFQOAfXqKTI+Qvqut5tGfEIg2g2GNXdoJy4hrm5I96qqB1MJWkz25UiLCbxLHVYPaCsZN4e9Xb3\n",
              "X1yQ/ELVrWNeQ8NMVlDXVU5foAFT3VHAIjO1itXxz/dvC7lrYBMpSI+rXtE9cdaXQ6IRhRziK6Ia\n",
              "2XPp8FSL4uIdDnwciNbeKCVwR9DtqDqwwVopH+Ts4WmAWcA45vRQzveJGJFrQzoQ0svx7kDOMaMb\n",
              "LWJDTblpSQKAyohBGze3Kt3XTjWME8wFFQD/NUcmqKVYyZwIVVVFbrhUn1daEAOgQk5uBfBoFgya\n",
              "yVmAI7qxRMoBDIRTfotjiS+l4pWXtgZaajio6BWbD1KtGXXxzaisJjNJdoIRNT/1yaPXDMtHrPV0\n",
              "GAc9nG4X6pi3BnBRUEzwRbkMRoPZN421bF3CP5aZDyoxlVStrGommzU6UDxzCnssP8m/4ezNIXt5\n",
              "UrbzuWGAn9UY1S5DeWMdVaPCKwxZRUvt7WFiMlpFB/RR+M8k3l79E6LgfaW9uf/zA/n2gn7DpFyU\n",
              "WZMZ9WKoX9IyvF4JO1N6uFw17hqvcY5YG+XnweSuqyIfZl73edcLHnNo5rM8gvZAgublfckiuaBt\n",
              "feu0uV/awgx+DlvR8cARqDv8I6HxBRom6XoVC6eWbgSZoIWGw3TTrrjg5LKjXyOFFovSriyTQq31\n",
              "sW2DUItODArDnc1ge1Ui768m0LOQq1n7nPcXHj2LUGpP2ZNC48jt3zILZhBNIwOvJWDCs3XPrsg5\n",
              "aHIA8cK60GZqO7OnlZoAxJgq+zEcKvJmIgRzGXmVyUMteDOBAAAA8UGehUURPDP/GKHdSrB/V7pB\n",
              "1ZgiCVlTK9YsKPoVDFycf+l0cAJpCSOnme1hZKhUdtUI7kNJ+gkmm78WmuTkngKsm+rDLONDXqIR\n",
              "UbIf5KZHKTSw5l/wy527NSsSjnCK69r5hMUSXp7b8Ds6ltlSFYSjjxGTkkK7jaw0yP+Az7CG/C5H\n",
              "ymSBVEbqvm7jGaPoS7ofz3n+1+RODcDfz8l5bmo4u3lV3ioLALUWQrrPy8evRyfPv1xZ6PikIGZK\n",
              "7UbCkKqJF9jnTsJm9Ab1g0zflTlU9X6cvvArpWImMnXsgADBsBtkcDvbwUDDQSZ58Qm0FSEAAAB5\n",
              "AZ6kdEK/IImJNZSWp9woeWdwGe9Dk7uKIKAmby8RVRRCFOSUE77TAAarXaGwbesxyOYIWEtIYvfB\n",
              "EjFF5VBTF80/Dq+Pztu+YWQmjCu/FPfeJCFFO3qhc1bZl2Nb+A5fG8OTSDreYGtDbv7gZ4nxdHdT\n",
              "WAH5o7PrbQAAAHgBnqZqQr8g1W5azjFMZTSRtzCLbei8KuqUto/MJ6AEy6oyJX0X8XbR/yskuXwo\n",
              "MMPl3S+0hmNn+LeYOsOwDbc4+VeOvj7lzPFHWk8f2/CLsh2k7HbWkJndm3aDrQJq/1Zl5sQHVqBR\n",
              "YrI1yI54+YTF8ATt6NBYoHEAAAObQZqrSahBaJlMCG///qeEABWveFEYNwgDTWYnAC2fnNBb+dW1\n",
              "0BwtGnHE16qxK7JIPQ1D2kFknoWEXwDV7hQIW70Rhl2DjZ9ca2tHVExPCR39sWpinTm0qEpsilGC\n",
              "N5gijxFkZkPUzfpNBIuZbvzCOknREspkvjD8Cui2RXuSZ/TGMtLFSdd1ufRdZpPbIlVcBMcxC2OB\n",
              "a5ajCBaqZf6JPCPBeeF6Q9lisd0gyZ+mlw87seLfzbNpCfb0l8uKg1dA5ZmmqThKG/9vfVBL6WDQ\n",
              "qZnFA+q9zGhqeNtrkihayH1YtqiACpswJg6aNvJSsFO2JP8UfCJgNaQGJv0+c0HvFtiOIV9139iV\n",
              "Q7lrY7BZet/FCnt8W0nLPMPqBqBOdhDPRhQRgFedGNepeVZUWqYuG0uoPuvY0hhmwZFZ5VAHh0Nx\n",
              "Ib1zfdtcxD+98YTVrvpP8dSQCVkZh3+syfqi/HAMOznsqHjGtvx3rm7dBwDh9IzkAFzJjttd3GDS\n",
              "+nquYdKDO0fGCOwa91Rfgqai9uOn4LqXsJrpIQn06uzIRf4BVwgRwwVaQn+NXNaOlU4wIOl7Gs/z\n",
              "oL6uveqvI1GONGewHNCiX9bJ7tCS8Qx8CFa5TYOgwSg68j7MU1eKAxowbv7ffnmQvBxX098NXO6D\n",
              "U3QK6J5cdmhvAr0R/Nyngx4btHCIlXiQwLjD16y9Y1byagCbecSUQxjvCcGxfpbVS8Ojo/v2Aqcq\n",
              "ES2SX0UL2dsJoGv0oeqFFGpFve4HTdMZ8Pt6GntnDx2x1d+DWSQuQlSslkt6f9Gopp981GwZapvW\n",
              "+z61cA47QNv4geU6E7+HQvYHCVeUAQGhXdUJ/Y2o04oowVjVeT1tCM5UkKFtNEMbtf1q6P4cAErs\n",
              "TheRwotp7nfwpIvn5zU70AVf+6IeG3VrGSFBu0k8hvBerCeK25heLFDdhhb1HK1jJPKQfZuHV2Qd\n",
              "OGhiretrtb2JJyB+iAYGFwCigOJAZP4+ZzTZl3AMV4StPiAFEjrta8MMflRPaVg2j5Vi6DjxVjJQ\n",
              "Et7op2dVIuHFmfr0+TUWdIYLGrROFJwwXPYZ+UQ6F/PZuDY9gVZQEOkKiiTR9qmGoJ8VSwrInSP+\n",
              "gsQ0qCJNA7ENYtVx5Dp6PVOKk62ettJEE1hSdgKdzfppWI7hVHGepO30z5GUuLzTLUqv4cmC/oag\n",
              "VQIXkuPmcV/naTWA0m3H2h+RQAa9n4VFf3euaNSVOVgAAADOQZ7JRREsM/8YsiOHDbjE23OpOC02\n",
              "TrhidTldvnPgSRABxtGS+qbHQsvOO4MLSjSVk0LtepPuoz2lMB0TEHWdTNLZn0fyKMdBYMrxQIr+\n",
              "v1nMeq8afY+J8zyirOdfdJfV7vxpi2AF4gkRk/I+V2156urD5OvGtvzP0DZb6Y6zl8F1ij5+mvsv\n",
              "rgk10jfcpv2wPcSojf1xQMjHpklLXYaIoTdCNdBWud1WpTE6r9BDyZgS7l+e9PY0djBqa3wRutWL\n",
              "qEvPJQPUHtl4XsYJQPAAAABRAZ7odEK/IImJNZSWp9wUcywJwuliv3p/PAZzP0xupUNEPkAITK2f\n",
              "tkABGEXUhMeNvWVbmeO8z1Y2cbGmRWEySIdx0XU9QuJRg9lWSKyg7YY9AAAAYQGe6mpCvyDVblrO\n",
              "MSXMSk8HWVFrIfu6D4UQHMCVTAh1ABMRJBB5z7bzl6maJP6Pn6odIQ0KmvkJPmShXk4IZy7S6g19\n",
              "6a9Rdg9lKBI/prxvYVr+hRJnZcBUtS3DfgISJHwAAAQCQZrsSahBbJlMCG///qeEABatuSACMLoD\n",
              "lXNyEWHq4x0aoZwDWy0Y6njMVu4SeNe9mnSotH+/xq8dQ2/hFY193dE/U7872x64phJgSJauwIGA\n",
              "Rm5t/zAFgKWBA8+sTTARnpIjUnPowGJadM7HDZnsck1w9p6lBhQuDUQSzB4KOJOCqPTVUNPS8I+w\n",
              "HVqkbVnzOyHFCY08uErJeG2xCslmq+O9pPyqqoupbRnppeBONGU8cFBSScsxObSASaZk/wcGA7h4\n",
              "QY2mFnXv9dq05hbmAigIeLuuKJ40TGvzH0WZ8GibdC5lRVyYiGG8gbjp/3NPpX8Onn+EzyqZ8YXc\n",
              "ezI1+udN5VVIXuZySQidrJ+AcHbaXVOX9zh2ZdlNcBS/3OyWDY4E3s0s7Hjnj47kZ1G9LFlc+vk5\n",
              "DB5PTE8baOchEZZtlgowDTezfsHVPsm2H1EK6t+mjkGVlVwoXbap2TSjZIOeRLHPnzd5RuosDTIB\n",
              "uW20xvmvRqIuiJugTyBAvdZSGlKQsTHaP4SR3nmoFrT/5hKFtZQWBGILdDRPix95M4z9QMC6iwR7\n",
              "/gZXHmetE+d/EkPRO3w96foyQtfDhQqBabxesLOyT1OOg/BmNof1XDqTegq6N/6GZ+Q/rgiMNvzx\n",
              "4mQc2XgAEIqoZ2U03eLfN0LeCFje75o+3b2bt6UwgBUEsSpnu22dXPvLuOS89jY9gQTKP/DrEq8G\n",
              "X7oq2BigJFSeLszvCI9JapsVAHMj9+9FjvTCAOyJgxxsyFC9SztzUB+qgyl4HmzUI+WSndn3ItMo\n",
              "na0lMju3Hz9MtsqY60UzGI/WhLlC2VNunqfKLNOjx5ZUAfzzo4unO9b8bL1psjIoLTjlxkAqK4rX\n",
              "viSzjjWf3/MfrQ0ea7LNAv5TK6Ea9g7t4P7qIDc0EQNCYEzCSdYPH/fhZxbch027R7MjtuJxUPCW\n",
              "Yb0kWXbFysDnzGIDH/on6N8fSr02XKW+7OAmDj+k6Ot8dqzHS/i2SwPpSB2CDc9rqvzGAY7PdD5r\n",
              "7rtv1K8vifPmExuvzzJDeGl3srgy9bK8ctF0DIq9IdLUjP2Gd4Um4v3G3kuV/+5NpcCOuWvFA2aF\n",
              "JWAC3DyhtTr/P7agfKuEoxfJzd72s6K8ROcXv2aRYdD+UAjhpEKhrvWl6Moe3yka9B3IQ/hZb4Yp\n",
              "SuIsRUWTILIJLI8W5y7TPVLPWJP9xEeBItsJ4s5u/dACgpWyZ5SSggRqZkgRe9T2r7Nf19P4xnR9\n",
              "W3jVM42wqYZSfa1P+8Ny70TFslTlleeJz16AWCGB1XiJ5r6UJlj3ZNCXuR6L9gjQB0r7aO1UUAdT\n",
              "3iVA2k4pJvWDWX4yt95zxknEGEMl2+biIpJR/hTgqjRMAAADfUGbDUnhClJlMCHf/qmWACqcLfcB\n",
              "mmoASyhEwuYos+oH9xCMIlPe2vMQcB/zz/6Ic3GYyReU70Ig6m90v2SICakub3VPmdP3Jlx0mUwh\n",
              "T6PGJ0stVO+h+4+OlNLFqsQlXPZ65v5vLsWarBz6oJSTlESs/h+gcLAxLGyTRei4b+kWs0RQUNfa\n",
              "lk7ZUGgVBszPzAfaF+mEDyga3kVeKfKbywYIq/hZ7g2qpfd7S5xlqDXuVrcUUUuaFpgVQtELqXzy\n",
              "PBLlPXqH2DL4Eco3KAIitBF9xzMNx3gXIbIxp1LyuUtZlz5q04uYuOPvK6nK5vpn2SOycbdnz0yq\n",
              "ziw7EXA1kmG+C4o01Kxd2PVt7YfigVmC0T42PT2E8F1NG06tDZGC1FBMpblvdlepQ12jeC9Jrq/q\n",
              "r3LO/2zUBT5rVh5FUKNz3iaqzy4XBrMllghPu9/EaUiLJrA/75DNaTrzwjYXletCO8U8LSN/LXXG\n",
              "UBk3e/9YahxWocvJrlCXhk/EP9myAG6Cv6BroqChxQyV6T5hqu55HHUrDB+cfmuQr0MAZAXzGEvT\n",
              "kQ+MmQg4itGFFFB1CmxZ72lt6r+qcqyXx8KpRYhOlALV734KC5v/zMIDASt7BVwT5FNlRhQLQtuj\n",
              "tmTD9A62/8BbFQMXhZQy956Tfjhbn7xc8ay0QCHye4pIcetRvbo/XDFI2QdF6uT7LuVAZTQJdh6i\n",
              "aA4hTPhILct71U7Ib/P0ZYPD4lI28m369GY74CG/y66v73hicb/s72EJX/hp3hhi4QotYoBz0P04\n",
              "ULl1mI9xvqCXszr33TPQDPOwHDaGuCq6liBXDMxiwwMvGmrgK0DJkikmvpfn8aTZjFlFGVjuTMnR\n",
              "st3Bnp65xBI2yWniHl6Sy8vAbZWXEIcJocvyql1BUOrIQZ9bm5TWKGb1ofrlUDlFVyJ4Ku0bWNOM\n",
              "yGzZg7otzUMX7YLTLY/I9vZnMd2QUOUH07KurD38EYAzy2vI2lADd2HIFlNoqpI7f2LPkMcd0rZo\n",
              "OHGYOQb7MSVoZvK//TyW72PjOp2CbFBJpI2MLaPm1Ig7xZ/C9M2ISQ3InbGQsFKCWLQ4FaD/GTxG\n",
              "zmo1UsO43AEAaeP5FEpKsN8QkfrN1+AdiO+5WjsqiJW6ERpyMFcJMBFacQxQrhAoZHjpEWgZuWRQ\n",
              "Q5ZeOlCG/wjL1e5dRtNw/FwxAAADl0GbMUnhDomUwIZ//ok99OEiaQBybTqW3/0etzlfmxf/whN/\n",
              "AJuKkZ5WETr8p+bFE816YX1jfvLO4Emb2xZIraKeQuRv0cHoxBWPzDohlR61hJujS8/ELOKcALSI\n",
              "DjdVMNEIoPczTTcachreISOv4f/ML7tqP1VN2DsjdKe+UWi3wv9J2FcQGi545NkalLphoJQGCcMl\n",
              "+RJY0VG/dsVeKOJWrtjBum+3Mfoaeb6E/+tQQxV8qG0jzN4Ogbvst1+t8t/i8zIDG4V1hF/zQhyu\n",
              "m7PQenOFphKNBgI/wWL7YMTj24poLd9zAjpVHXJp/03Lnp9vOP/En4wdmNbPAiSx8FtPpxeFRKKp\n",
              "Wy7iBXQJoaTgauMh91CMp/H10fOFB9Oa82ZTDRBpduLD815h21aLSi3TVwR23Gbx0pv3S8qCoMk4\n",
              "N7ZOTpkuCgm1EGOatZ9EYrc+SGk/oGS1tIuEo63373EVeZeOp0NIkkaXBAQRChR9s6y2PUG3CFDw\n",
              "SuoztC+IztsvB0z06uGsBnT37U6n88ICUE981S0F3vsF+vghylGUKKHUuoap5+J0BVWS+ZJYThAb\n",
              "Up9USWM3Rj58LRNr8J6GrAh5WmhTrgl/7nOxQzvez/gdTlhwCbiSUCvqC3zZupa01jqv5ULe+AmT\n",
              "8zzNamifA3c+SaG6RPoyvUVC32u0NMLJ0n6RhmApiQrasfZZMITARF2IvkwCFBraQ9IBUy6CodpP\n",
              "d+9JacyTzhyFtO6mp1kK5LhhRZWLNfMo/AKkwiN8st9UBRmRHcluguuCSrEtWwZ/IAOVKbMknxTK\n",
              "klpfGxC/cTBUHstEfP2SUbqKcdXQTWvJGP66BiMuXP/K0TARu6b9ntfwOJXuH8li2ucs1c/HifEq\n",
              "fIy8/BcIuMAcdDuQ/TYEx0RyCL1kgTHBMat/0qxABUl0E8qyM1iUKKdepdjFuxlp/AM+sCRwIrzK\n",
              "8zDxi0OUxm0/fGQCnL7eMmraAfyBgBlkCpIq9Flz4WNrbx1CzNc22df86i4IAFHgfkmTB6FEDp+A\n",
              "9jAjDwbnkwy/Z8SPUUZXqa4cRoh//wJ3aYYPUZpnHAWZkCelxvjkcoMDUn/ol/+2CA1BHKTp4Cg2\n",
              "2Kn+hDHb4tpPbh5ey3NS00G5U6HA1mPdbz/zPYyVZ3xNdSysp4l/OjSHwxfRCZ92q8hftCAK8JfS\n",
              "LQDlQIRXPsyWpZTKmAOtzqiAwwtsEJvNq6b0NmEAAAMMQZ9PRRE8M/8wlYkt8aqhwAjI+sUDZJlM\n",
              "yEqv8SKxFkgL7x2RdXAP0QCFj/LrLmzpPbkEC7EMXiSDluFds6UWc4u8HgMpUsv/lhpewrW7iAXz\n",
              "hWpJYmrt+DpbbqsTNgncCKAntOwWJes5huagp7zz3naMgkPQKMn701fuoBdcDU9sF11jteqbKjK5\n",
              "O/u+/7kzfM9sjbdSMBrHmRlPooyKJfMHlCC+o2zpvFmJBlwsUmQ6dHRIaAAhjxxw3VijoXSZaNAi\n",
              "dcYjcE8t88szAl6z78DOoHRmQWLY2O4sGLgzSdLT85HqhOnJ0N2jGuMMID7nIASa+BfUcuMKdHba\n",
              "cgDh6OLTNK65j32kHtOwv+25hwaL/aGegouV4d167zkS7u+bnrvJ+U76XBblvrtAn/TwDK1c7xuG\n",
              "IkSyf0J4wLeI5gvBhVy98bqLYsD8Z4YgyO9cU7qC1v3waOookUAVhvnLpw3dO0eY+99ZjeS0wrgU\n",
              "g9+0G+PhYQwyJsFj299zxqFekT3XCV8Ns2gL5gB3fHDbNYHL7t6zUyO8a8p2QueV8WhpDl3C5zCW\n",
              "qzcfh+Wu3FIw0M+QplXNqcD3edrTVfdbbDJhIvkHgS89eBhBPtUtOrIx80some+JLmm4USiafTJE\n",
              "1oRfkAJdUleJi+Oyi+XWbi3FSuknDNlYWpvwetB5u9oAQqlW1WBdKe962r9Nnlj1FG0imaliEaRL\n",
              "MSnKwfPAtEcfxIeqhlVoOxpFFICYbZ/XYLgiLy4YsqlM9/chyvcabGjuJYT8+Dc2MRQQMoQT4iEQ\n",
              "Fs39H6TdINCt4VIzZlY+yVIf2YS/LHMBF8J7vGQH1+edsFenb9pLPL5tUkJbxub4b20yEPz+BbSQ\n",
              "061VSvDd9LRCIzzqv44+kZZswRdj75ZnxL4/s0AXtYg9SE3ryjdOV2BW4zYOwwpLarrlRVGXyUea\n",
              "1Br/Sc1ismdOEwGGv32zB0FHoM8JYAVK067wRIR1qx2/aUF51k1j6C3b0TdthyOqRyQEUK6/EfA8\n",
              "xPj4NJwx7/kIq1BNsVXdAAADJwGfbnRCvyCJqyJ9L2y2Amc0boMslZY9j2E1xwAg/Nh6oDCD0HNS\n",
              "GYeGDu4koNReIXtbmaBQen/6osA4V5XEpbwzLX+xcgYSp+MaY8/JdgCY7y5WvxYITS5hIxZaoreb\n",
              "ssjQYQojcg8dTQemaahl0ImuLgyNRL1NVvDsu0NnU/QWZ7tHXCZji2K1SbOMRlXKDUrExU3lbohu\n",
              "q9iMAgKUu9s4jM9H49If98Wbi5WeUpNxeVCoF5cdqL/xSN9D1GSA/NPuHYIBkzvPPt5qUFip9SRa\n",
              "KVU2GuKM98YqBC+8i7sUFezr+D8S4ndRVkd+zObQwtFQj53YspBauU2xgneqNpu887YRUiKmkQui\n",
              "E+vXAmSwZyu32xCBg+ENcZnl+10r634K8JE4vVx/fgA0Maq4fJox7O9Fk7emHGOfqBkcobR+QCcI\n",
              "UdNuzAffe8hZyuDYqU91yFvP8AKXVkegd8cHKFu+U0QrodXtR9kTp9ULT/WRYj0HlH+Of0aWZO6E\n",
              "OshlP5mGUtOJ3aoRddd4gRMdP+RHK4l/F6xe6c4/jf2AjB59cA2FW9gNOjz+8hAImthDKjJk/ehX\n",
              "kP4cfji+qyiNkUUGwZ1I7saXUWV3oTDW1UgCVEXxmZVpufsL1NZHV5ceRjmyp+wZ8Z1t4IXbhjUP\n",
              "/ZoD/kpp+sjldZimxTbCncHT8MRzWIRsizU5/Tg7uOA/nG0cpKTEMIj2ReYHxXxaHSsDqE17o52P\n",
              "DvVRzk5vuPrIAu7Xm10+v+gm4edoOkT+ry3fs12Ur/8f/uRZRigFmsQAAbns7FmnDi8HUQCjIVMd\n",
              "7LfkZHOq8pmXGQF4Ffju0wBg7P/nU/28SLPSKftUhQmS+pY5wOtOn3cj6m0H6v7QPxquF0DZApDJ\n",
              "h7WC7PxXe87ip51TKxpIqPCa9Nq1BOsO+LIaTY70ZqaPMpWjG0EKP0daOi3l2NsyRs36azTWL3LN\n",
              "0bNAVMFSNAIhLdebDWHaNMpE1hsF9wH3TvHBUy6V6zSpBYS9NCUYRxcSNW8Djeh5mqK5NeWRqxux\n",
              "ilIpD+WFY8I0/kgNuT2fMGklKW2ZUTzRcIFUTAAAAgUBn3BqQr85qv3IqJBSoAA1KLs19EuzomfI\n",
              "48NadXKZXW/V+9ORGKdQkUV0jBuHLaxIzk9Z/06LI5s1Fkg6NI0o9ugDCX8q8SSeI6rA1c8ScSa4\n",
              "0OnN9jyGF1Nr5o+7EE+0LO80nrlykjc29teL8r0hbaA1yCKdv4rA1oj9TMLwYsnU3AbRASV9g2os\n",
              "fuR14HqgPK5SNROZnP3pZhZdawyHUasFuZM4USP/6Q+TaMRXk2q70l+j8XiM0naS5NDq8S59TKu5\n",
              "eHmb+XKHElVgTapTYVEcLSG1SIjkOFx6HYSLWvYPlFYcOXoVzsOtfnqn71L661EuuIb0+UUBQAD5\n",
              "IQc7IiUdsa2533QaAjgazVEXCy7ZUa/pNKtWbBR6kL1mzwTIvaVaT2lEdm7VLpQNJr6b1PEZPcVX\n",
              "BjQaETCHaZCRwon7VONObj+MA4bVraBtZfHZESBt9mKy2/OKfmv1tnxT1wvAikWvtE4nCwXyd9nQ\n",
              "ZWrtlnVPIzFNrN2i0Wm/crZvnH7iod1Ul5YPBgrIioqPEso8PRPzI+3WY7Ye15v5HDddj5Paq6RB\n",
              "tuKclA0PquZB8zzU3kibRFhLvwvL6ZBUEhKvsPN+W9UFJvOVtoBggY/sGpT/ZRCxx5OObaEVCi/I\n",
              "6A7UMIIB8nMS9orria6jOekacmJ5jBZX6aKSe0fO5phGe1bAAAAAGUGbc0moQWiZTBTwr/44QATb\n",
              "3Fyea2J0CHkAAAAcAZ+SakK/AEWDQMxIY90WuFw42/a3EECVYsTZ2AAABBZtb292AAAAbG12aGQA\n",
              "AAAAAAAAAAAAAAAAAAPoAAAD6AABAAABAAAAAAAAAAAAAAAAAQAAAAAAAAAAAAAAAAAAAAEAAAAA\n",
              "AAAAAAAAAAAAAEAAAAAAAAAAAAAAAAAAAAAAAAAAAAAAAAAAAAAAAAACAAADQHRyYWsAAABcdGto\n",
              "ZAAAAAMAAAAAAAAAAAAAAAEAAAAAAAAD6AAAAAAAAAAAAAAAAAAAAAAAAQAAAAAAAAAAAAAAAAAA\n",
              "AAEAAAAAAAAAAAAAAAAAAEAAAAABsAAAASAAAAAAACRlZHRzAAAAHGVsc3QAAAAAAAAAAQAAA+gA\n",
              "AAQAAAEAAAAAArhtZGlhAAAAIG1kaGQAAAAAAAAAAAAAAAAAACgAAAAoAFXEAAAAAAAtaGRscgAA\n",
              "AAAAAAAAdmlkZQAAAAAAAAAAAAAAAFZpZGVvSGFuZGxlcgAAAAJjbWluZgAAABR2bWhkAAAAAQAA\n",
              "AAAAAAAAAAAAJGRpbmYAAAAcZHJlZgAAAAAAAAABAAAADHVybCAAAAABAAACI3N0YmwAAACzc3Rz\n",
              "ZAAAAAAAAAABAAAAo2F2YzEAAAAAAAAAAQAAAAAAAAAAAAAAAAAAAAABsAEgAEgAAABIAAAAAAAA\n",
              "AAEAAAAAAAAAAAAAAAAAAAAAAAAAAAAAAAAAAAAAAAAAAAAY//8AAAAxYXZjQwFkABX/4QAYZ2QA\n",
              "FazZQbCWhAAAAwAEAAADAKA8WLZYAQAGaOvjyyLAAAAAHHV1aWRraEDyXyRPxbo5pRvPAyPzAAAA\n",
              "AAAAABhzdHRzAAAAAAAAAAEAAAAUAAACAAAAABRzdHNzAAAAAAAAAAEAAAABAAAAqGN0dHMAAAAA\n",
              "AAAAEwAAAAEAAAQAAAAAAQAABgAAAAABAAACAAAAAAEAAAQAAAAAAQAACgAAAAABAAAEAAAAAAEA\n",
              "AAAAAAAAAQAAAgAAAAABAAAKAAAAAAEAAAQAAAAAAQAAAAAAAAABAAACAAAAAAIAAAQAAAAAAQAA\n",
              "CgAAAAABAAAEAAAAAAEAAAAAAAAAAQAAAgAAAAABAAAGAAAAAAEAAAIAAAAAHHN0c2MAAAAAAAAA\n",
              "AQAAAAEAAAAUAAAAAQAAAGRzdHN6AAAAAAAAAAAAAAAUAAAUgwAABB4AAAEIAAADjgAAA3wAAAD1\n",
              "AAAAfQAAAHwAAAOfAAAA0gAAAFUAAABlAAAEBgAAA4EAAAObAAADEAAAAysAAAIJAAAAHQAAACAA\n",
              "AAAUc3RjbwAAAAAAAAABAAAALAAAAGJ1ZHRhAAAAWm1ldGEAAAAAAAAAIWhkbHIAAAAAAAAAAG1k\n",
              "aXJhcHBsAAAAAAAAAAAAAAAALWlsc3QAAAAlqXRvbwAAAB1kYXRhAAAAAQAAAABMYXZmNTcuODMu\n",
              "MTAw\n",
              "\">\n",
              "  Your browser does not support the video tag.\n",
              "</video>"
            ],
            "text/plain": [
              "<IPython.core.display.HTML object>"
            ]
          },
          "metadata": {},
          "execution_count": 47
        }
      ]
    }
  ]
}